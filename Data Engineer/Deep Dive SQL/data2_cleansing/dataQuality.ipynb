{
 "cells": [
  {
   "cell_type": "markdown",
   "metadata": {},
   "source": [
    "# $$Homework$$"
   ]
  },
  {
   "cell_type": "markdown",
   "metadata": {},
   "source": [
    "In order to ensure that the quality of the information with which you are going to work is optimal, it is necessary to make a list of proposals for improvement taking into account the following points:"
   ]
  },
  {
   "cell_type": "markdown",
   "metadata": {},
   "source": [
    "- 1- How up-to-date is the information? Can the way that information is updated or maintained be improved?"
   ]
  },
  {
   "cell_type": "markdown",
   "metadata": {},
   "source": [
    "- 2- Is the data complete in all tables?"
   ]
  },
  {
   "cell_type": "markdown",
   "metadata": {},
   "source": [
    "- 3- Are the sources of the data known?"
   ]
  },
  {
   "cell_type": "markdown",
   "metadata": {},
   "source": [
    "- 4- When integrating this data, it is prudent that there be a standardization regarding naming the tables and their fields."
   ]
  },
  {
   "cell_type": "markdown",
   "metadata": {},
   "source": [
    "- 5- It is important to review the consistency of the data: Can all tables be related to the model? What are fact tables and dimensional or master tables? Can we make that separation in the data we have (factual tables and dimensions)? Are there duplicate keys? What are qualitative variables and which are quantitative? What actions can we apply on them?"
   ]
  },
  {
   "cell_type": "markdown",
   "metadata": {},
   "source": [
    "$$-----------$$"
   ]
  }
 ],
 "metadata": {
  "language_info": {
   "name": "python"
  },
  "orig_nbformat": 4
 },
 "nbformat": 4,
 "nbformat_minor": 2
}
