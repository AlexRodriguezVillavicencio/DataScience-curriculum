{
  "nbformat": 4,
  "nbformat_minor": 0,
  "metadata": {
    "colab": {
      "provenance": [],
      "authorship_tag": "ABX9TyOoYKp+Q1R4eEEkVwY1WjWm",
      "include_colab_link": true
    },
    "kernelspec": {
      "name": "python3",
      "display_name": "Python 3"
    },
    "language_info": {
      "name": "python"
    },
    "accelerator": "GPU",
    "gpuClass": "standard"
  },
  "cells": [
    {
      "cell_type": "markdown",
      "metadata": {
        "id": "view-in-github",
        "colab_type": "text"
      },
      "source": [
        "<a href=\"https://colab.research.google.com/github/AlexRodriguezVillavicencio/DataScience-curriculum/blob/main/tensorflow/RNC.ipynb\" target=\"_parent\"><img src=\"https://colab.research.google.com/assets/colab-badge.svg\" alt=\"Open In Colab\"/></a>"
      ]
    },
    {
      "cell_type": "code",
      "execution_count": 1,
      "metadata": {
        "id": "qNrmjLLjX-b0",
        "colab": {
          "base_uri": "https://localhost:8080/",
          "height": 53
        },
        "outputId": "2cba3dee-be72-4406-8744-4badbd33f680"
      },
      "outputs": [
        {
          "output_type": "stream",
          "name": "stdout",
          "text": [
            "Using matplotlib backend: agg\n"
          ]
        },
        {
          "output_type": "execute_result",
          "data": {
            "text/plain": [
              "'2.9.2'"
            ],
            "application/vnd.google.colaboratory.intrinsic+json": {
              "type": "string"
            }
          },
          "metadata": {},
          "execution_count": 1
        }
      ],
      "source": [
        "from io import IncrementalNewlineDecoder\n",
        "import tensorflow as tf\n",
        "import matplotlib.pyplot as plt\n",
        "%matplotlib\n",
        "\n",
        "from tensorflow.keras.datasets import cifar10 \n",
        "tf.__version__\n"
      ]
    },
    {
      "cell_type": "markdown",
      "source": [
        "### Preprocesamos los datos"
      ],
      "metadata": {
        "id": "BwloFK1kosOM"
      }
    },
    {
      "cell_type": "code",
      "source": [
        "# configurar el nombre de las clases del dataset\n",
        "class_name = ['avion','coche','pajaro','gato','ciervo','perro','rana','caballo','barco','camion']\n",
        "\n",
        "#carga del dataset\n",
        "(X_train,y_train),(X_test,y_test) = cifar10.load_data()"
      ],
      "metadata": {
        "colab": {
          "base_uri": "https://localhost:8080/"
        },
        "id": "FAU86GxGonZa",
        "outputId": "d26c2f86-3ae9-4405-80fd-69aaab54c350"
      },
      "execution_count": 2,
      "outputs": [
        {
          "output_type": "stream",
          "name": "stdout",
          "text": [
            "Downloading data from https://www.cs.toronto.edu/~kriz/cifar-10-python.tar.gz\n",
            "170498071/170498071 [==============================] - 13s 0us/step\n"
          ]
        }
      ]
    },
    {
      "cell_type": "code",
      "source": [
        "X_train = X_train /255.0\n",
        "X_test = X_test /255.0\n",
        "\n",
        "X_train.shape"
      ],
      "metadata": {
        "colab": {
          "base_uri": "https://localhost:8080/"
        },
        "id": "XFWusN2SqF8q",
        "outputId": "50e42c49-ee99-46af-a269-119741c9db8c"
      },
      "execution_count": 3,
      "outputs": [
        {
          "output_type": "execute_result",
          "data": {
            "text/plain": [
              "(50000, 32, 32, 3)"
            ]
          },
          "metadata": {},
          "execution_count": 3
        }
      ]
    },
    {
      "cell_type": "markdown",
      "source": [
        "### Definimos el modelo"
      ],
      "metadata": {
        "id": "3FCLCeLisda3"
      }
    },
    {
      "cell_type": "code",
      "source": [
        "model = tf.keras.models.Sequential()\n",
        "\n",
        "#primera capa de convolución\n",
        "model.add(\n",
        "    tf.keras.layers.Conv2D(filters=32, kernel_size=3, padding='same',activation='relu', input_shape=[32,32,3])\n",
        ")\n",
        "\n",
        "#segunda capa de convolución y capa de max-pooling\n",
        "model.add(\n",
        "    tf.keras.layers.Conv2D(filters=32, kernel_size=3, padding='same',activation='relu')\n",
        ")\n",
        "model.add(\n",
        "    tf.keras.layers.MaxPool2D(pool_size=2, strides=2, padding='valid')\n",
        ")\n",
        "\n",
        "#tercera capa de convolución\n",
        "model.add(\n",
        "    tf.keras.layers.Conv2D(filters=64,kernel_size=3, padding='same', activation='relu')\n",
        ")\n",
        "\n",
        "#cuarta capa de convolución y capa de max-pooling\n",
        "model.add(\n",
        "    tf.keras.layers.Conv2D(filters=64, kernel_size=3, padding='same',activation='relu')\n",
        ")\n",
        "model.add(\n",
        "    tf.keras.layers.MaxPool2D(pool_size=2, strides=2, padding='valid')\n",
        ")\n",
        "\n",
        "#capa de flattening\n",
        "model.add(tf.keras.layers.Flatten())\n",
        "\n",
        "#full conection\n",
        "#primera capa oculta\n",
        "model.add(\n",
        "    tf.keras.layers.Dense(units=128, activation='relu')\n",
        ")\n",
        "\n",
        "#capa de salida\n",
        "model.add(\n",
        "    tf.keras.layers.Dense(units=10, activation='softmax')\n",
        ")\n",
        "\n",
        "#compilamos\n",
        "model.compile(optimizer='adam', loss='sparse_categorical_crossentropy', metrics=['sparse_categorical_accuracy'])\n",
        "\n",
        "model.summary()"
      ],
      "metadata": {
        "colab": {
          "base_uri": "https://localhost:8080/"
        },
        "id": "ejh-PXSesi6L",
        "outputId": "8bc9399e-9709-461b-cd0d-11d481291d5c"
      },
      "execution_count": 5,
      "outputs": [
        {
          "output_type": "stream",
          "name": "stdout",
          "text": [
            "Model: \"sequential\"\n",
            "_________________________________________________________________\n",
            " Layer (type)                Output Shape              Param #   \n",
            "=================================================================\n",
            " conv2d (Conv2D)             (None, 32, 32, 32)        896       \n",
            "                                                                 \n",
            " conv2d_1 (Conv2D)           (None, 32, 32, 32)        9248      \n",
            "                                                                 \n",
            " max_pooling2d (MaxPooling2D  (None, 16, 16, 32)       0         \n",
            " )                                                               \n",
            "                                                                 \n",
            " conv2d_2 (Conv2D)           (None, 16, 16, 64)        18496     \n",
            "                                                                 \n",
            " conv2d_3 (Conv2D)           (None, 16, 16, 64)        36928     \n",
            "                                                                 \n",
            " max_pooling2d_1 (MaxPooling  (None, 8, 8, 64)         0         \n",
            " 2D)                                                             \n",
            "                                                                 \n",
            " flatten (Flatten)           (None, 4096)              0         \n",
            "                                                                 \n",
            " dense (Dense)               (None, 128)               524416    \n",
            "                                                                 \n",
            " dense_1 (Dense)             (None, 10)                1290      \n",
            "                                                                 \n",
            "=================================================================\n",
            "Total params: 591,274\n",
            "Trainable params: 591,274\n",
            "Non-trainable params: 0\n",
            "_________________________________________________________________\n"
          ]
        }
      ]
    },
    {
      "cell_type": "markdown",
      "source": [
        "### Entrenamos el modelo"
      ],
      "metadata": {
        "id": "0A1zsNGRxta1"
      }
    },
    {
      "cell_type": "code",
      "source": [
        "model.fit(X_train,y_train, epochs=5)"
      ],
      "metadata": {
        "colab": {
          "base_uri": "https://localhost:8080/"
        },
        "id": "N1Ta47FNxwlB",
        "outputId": "6d41f7a8-c6f5-44e8-9bef-527b21477934"
      },
      "execution_count": 6,
      "outputs": [
        {
          "output_type": "stream",
          "name": "stdout",
          "text": [
            "Epoch 1/5\n",
            "1563/1563 [==============================] - 16s 4ms/step - loss: 1.3764 - sparse_categorical_accuracy: 0.5028\n",
            "Epoch 2/5\n",
            "1563/1563 [==============================] - 7s 4ms/step - loss: 0.9108 - sparse_categorical_accuracy: 0.6800\n",
            "Epoch 3/5\n",
            "1563/1563 [==============================] - 7s 4ms/step - loss: 0.7403 - sparse_categorical_accuracy: 0.7375\n",
            "Epoch 4/5\n",
            "1563/1563 [==============================] - 7s 4ms/step - loss: 0.6183 - sparse_categorical_accuracy: 0.7829\n",
            "Epoch 5/5\n",
            "1563/1563 [==============================] - 7s 4ms/step - loss: 0.5200 - sparse_categorical_accuracy: 0.8158\n"
          ]
        },
        {
          "output_type": "execute_result",
          "data": {
            "text/plain": [
              "<keras.callbacks.History at 0x7efc5c599910>"
            ]
          },
          "metadata": {},
          "execution_count": 6
        }
      ]
    },
    {
      "cell_type": "markdown",
      "source": [
        "### Evaluamos el modelo"
      ],
      "metadata": {
        "id": "-3ygDHbxzZxY"
      }
    },
    {
      "cell_type": "code",
      "source": [
        "test_loss, test_accuracy = model.evaluate(X_test,y_test)"
      ],
      "metadata": {
        "colab": {
          "base_uri": "https://localhost:8080/"
        },
        "id": "zhOnoR11zZI5",
        "outputId": "ac585b5a-cb7d-45e7-d91d-1c5a26ddc0d8"
      },
      "execution_count": 7,
      "outputs": [
        {
          "output_type": "stream",
          "name": "stdout",
          "text": [
            "313/313 [==============================] - 1s 3ms/step - loss: 0.7630 - sparse_categorical_accuracy: 0.7481\n"
          ]
        }
      ]
    }
  ]
}