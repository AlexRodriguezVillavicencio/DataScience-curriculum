{
  "nbformat": 4,
  "nbformat_minor": 0,
  "metadata": {
    "colab": {
      "provenance": [],
      "authorship_tag": "ABX9TyO5EKjmFU1unVG5puFHD5Yq",
      "include_colab_link": true
    },
    "kernelspec": {
      "name": "python3",
      "display_name": "Python 3"
    },
    "language_info": {
      "name": "python"
    }
  },
  "cells": [
    {
      "cell_type": "markdown",
      "metadata": {
        "id": "view-in-github",
        "colab_type": "text"
      },
      "source": [
        "<a href=\"https://colab.research.google.com/github/AlexRodriguezVillavicencio/DataScience-curriculum/blob/main/tensorflow/RNA.ipynb\" target=\"_parent\"><img src=\"https://colab.research.google.com/assets/colab-badge.svg\" alt=\"Open In Colab\"/></a>"
      ]
    },
    {
      "cell_type": "markdown",
      "source": [
        "Importamos las dependencias necesarias"
      ],
      "metadata": {
        "id": "fVrrBugsFXrm"
      }
    },
    {
      "cell_type": "code",
      "execution_count": 3,
      "metadata": {
        "id": "bD8sPZu0C_KT"
      },
      "outputs": [],
      "source": [
        "import tensorflow as tf\n",
        "import numpy as np\n",
        "import datetime\n",
        "from tensorflow.keras.datasets import fashion_mnist"
      ]
    },
    {
      "cell_type": "markdown",
      "source": [
        "### Preprocesamos los datos"
      ],
      "metadata": {
        "id": "EDxud-rLF4X7"
      }
    },
    {
      "cell_type": "code",
      "source": [
        "(X_train, y_train), (X_test, y_test) = fashion_mnist.load_data()"
      ],
      "metadata": {
        "id": "X6Wx62biFyt_"
      },
      "execution_count": 12,
      "outputs": []
    },
    {
      "cell_type": "markdown",
      "source": [
        "Se divide cada imagen en los conjuntos de entrenamiento y de testing entre el valor máximo de cada uno de los píxeles (255). De este modo, cada píxel se hallará en el rango [0,1]. Al normalizar las imágenes, nos aseguramos que nuestro modelo RNA se entrenará más rápido."
      ],
      "metadata": {
        "id": "eDV6Xj5dG2O2"
      }
    },
    {
      "cell_type": "code",
      "source": [
        "X_train = X_train / 255.0\n",
        "X_test = X_test / 255.0"
      ],
      "metadata": {
        "id": "NU4QlSqYHdbC"
      },
      "execution_count": 13,
      "outputs": []
    },
    {
      "cell_type": "markdown",
      "source": [
        "Como vamos a utilizar una red neuronal totalmente conectada, vamos a redimensionar los subconjuntos de entrenamiento y testing a formato de vector en lugar de formato de matriz."
      ],
      "metadata": {
        "id": "XkqpmWd3H-wU"
      }
    },
    {
      "cell_type": "code",
      "source": [
        "# aplanamos en un vector de 784 elementos\n",
        "print(X_train.shape)\n",
        "# flattening\n",
        "X_train = X_train.reshape(-1,28*28)\n",
        "print(X_train.shape)"
      ],
      "metadata": {
        "colab": {
          "base_uri": "https://localhost:8080/"
        },
        "id": "ETZpI46jHwr8",
        "outputId": "094668e9-5fec-44a5-bcc0-af022a8723f0"
      },
      "execution_count": 15,
      "outputs": [
        {
          "output_type": "stream",
          "name": "stdout",
          "text": [
            "(60000, 28, 28)\n",
            "(60000, 784)\n"
          ]
        }
      ]
    },
    {
      "cell_type": "markdown",
      "source": [
        "### Definimos el modelo"
      ],
      "metadata": {
        "id": "EhWVwCeUJURa"
      }
    },
    {
      "cell_type": "code",
      "source": [
        "model = tf.keras.models.Sequential()\n",
        "\n",
        "# full conection\n",
        "# units: números de neuronas\n",
        "# activation: función de activación\n",
        "# input_shape: número de entradas\n",
        "model.add(tf.keras.layers.Dense(units=128, activation='relu', input_shape=(784,)))"
      ],
      "metadata": {
        "id": "Orqf0mf5JSwk"
      },
      "execution_count": 25,
      "outputs": []
    },
    {
      "cell_type": "markdown",
      "source": [
        "Añadimos también una capa de Dropout. Que es una técnica de regularización donde aleatoriamente se asignan a ciertas neuronas de la red al valor `cero`. De este modo, mientras se entrenan, estas neuronas no actualizarán sus valores. Al tener cierto valor de neuronas sin actualizar, el procesos de entrenamiento tomás tiempo pero por contra tenemos menos posibilidades de sufrir `overfitting`."
      ],
      "metadata": {
        "id": "6pOJdaGGLCbo"
      }
    },
    {
      "cell_type": "code",
      "source": [
        "model.add(tf.keras.layers.Dropout(0.2))"
      ],
      "metadata": {
        "id": "hSSK0Rs4LdDT"
      },
      "execution_count": 26,
      "outputs": []
    },
    {
      "cell_type": "markdown",
      "source": [
        "Añadimos la segunda capa"
      ],
      "metadata": {
        "id": "hmHgtcbpMR2h"
      }
    },
    {
      "cell_type": "code",
      "source": [
        "# capa de salida\n",
        "model.add(tf.keras.layers.Dense(units=10,activation='softmax'))"
      ],
      "metadata": {
        "id": "1Jw98A2sMUp1"
      },
      "execution_count": 27,
      "outputs": []
    },
    {
      "cell_type": "markdown",
      "source": [
        "Compilamos el modelo"
      ],
      "metadata": {
        "id": "r39JdMb9OsEN"
      }
    },
    {
      "cell_type": "code",
      "source": [
        "model.compile(optimizer='adam', loss='sparse_categorical_crossentropy', metrics=['sparse_categorical_accuracy'])\n",
        "\n",
        "model.summary()"
      ],
      "metadata": {
        "colab": {
          "base_uri": "https://localhost:8080/"
        },
        "id": "7T3rjdCrNDcP",
        "outputId": "b44372e3-f012-4107-b407-bb19d49cb4da"
      },
      "execution_count": 32,
      "outputs": [
        {
          "output_type": "stream",
          "name": "stdout",
          "text": [
            "Model: \"sequential_3\"\n",
            "_________________________________________________________________\n",
            " Layer (type)                Output Shape              Param #   \n",
            "=================================================================\n",
            " dense_3 (Dense)             (None, 128)               100480    \n",
            "                                                                 \n",
            " dropout_3 (Dropout)         (None, 128)               0         \n",
            "                                                                 \n",
            " dense_4 (Dense)             (None, 10)                1290      \n",
            "                                                                 \n",
            "=================================================================\n",
            "Total params: 101,770\n",
            "Trainable params: 101,770\n",
            "Non-trainable params: 0\n",
            "_________________________________________________________________\n"
          ]
        }
      ]
    },
    {
      "cell_type": "markdown",
      "source": [
        "### Entrenamos el model"
      ],
      "metadata": {
        "id": "zBQIs3EEPOK9"
      }
    },
    {
      "cell_type": "code",
      "source": [
        "model.fit(X_train, y_train, epochs=5)"
      ],
      "metadata": {
        "colab": {
          "base_uri": "https://localhost:8080/"
        },
        "id": "TUv-79zGOuTF",
        "outputId": "3000bf45-f3a3-40f7-aa09-b2b9b395c4f0"
      },
      "execution_count": 34,
      "outputs": [
        {
          "output_type": "stream",
          "name": "stdout",
          "text": [
            "Epoch 1/5\n",
            "1875/1875 [==============================] - 6s 3ms/step - loss: 0.3065 - sparse_categorical_accuracy: 0.8859\n",
            "Epoch 2/5\n",
            "1875/1875 [==============================] - 5s 3ms/step - loss: 0.2960 - sparse_categorical_accuracy: 0.8906\n",
            "Epoch 3/5\n",
            "1875/1875 [==============================] - 5s 3ms/step - loss: 0.2914 - sparse_categorical_accuracy: 0.8926\n",
            "Epoch 4/5\n",
            "1875/1875 [==============================] - 6s 3ms/step - loss: 0.2845 - sparse_categorical_accuracy: 0.8931\n",
            "Epoch 5/5\n",
            "1875/1875 [==============================] - 5s 3ms/step - loss: 0.2792 - sparse_categorical_accuracy: 0.8958\n"
          ]
        },
        {
          "output_type": "execute_result",
          "data": {
            "text/plain": [
              "<keras.callbacks.History at 0x7f10123d5f40>"
            ]
          },
          "metadata": {},
          "execution_count": 34
        }
      ]
    },
    {
      "cell_type": "markdown",
      "source": [
        "### Evaluación del modelo y predicción"
      ],
      "metadata": {
        "id": "pA1wbR1VSla1"
      }
    },
    {
      "cell_type": "code",
      "source": [
        "X_test = X_test.reshape(-1,28*28)"
      ],
      "metadata": {
        "id": "nBQj2RQmTVcZ"
      },
      "execution_count": 41,
      "outputs": []
    },
    {
      "cell_type": "code",
      "source": [
        "test_loss, test_accuracy  = model.evaluate(X_test,y_test)\n",
        "\n",
        "print(f\"test acurracy: {test_accuracy}\")\n",
        "print(f\"test loss: {test_loss}\")"
      ],
      "metadata": {
        "colab": {
          "base_uri": "https://localhost:8080/"
        },
        "id": "3j8RB9h6So68",
        "outputId": "4de10858-ac94-4be6-b008-7fbbe4f1b328"
      },
      "execution_count": 42,
      "outputs": [
        {
          "output_type": "stream",
          "name": "stdout",
          "text": [
            "313/313 [==============================] - 1s 2ms/step - loss: 0.3384 - sparse_categorical_accuracy: 0.8780\n",
            "test acurracy: 0.878000020980835\n",
            "test loss: 0.33840855956077576\n"
          ]
        }
      ]
    },
    {
      "cell_type": "markdown",
      "source": [
        "### Guardamos el modelo"
      ],
      "metadata": {
        "id": "SGbHMl98TmkX"
      }
    },
    {
      "cell_type": "code",
      "source": [
        "#guardar la arquitectura (topología) de la red neuronal\n",
        "model_json = model.to_json()\n",
        "with open(\"fahsion_model.json\",\"w\") as json_file:\n",
        "  json_file.write(model_json)"
      ],
      "metadata": {
        "id": "_lfyJMr7Tok9"
      },
      "execution_count": 44,
      "outputs": []
    },
    {
      "cell_type": "markdown",
      "source": [
        "### Guardamos los pesos de la red neuronal"
      ],
      "metadata": {
        "id": "KCtGPR_GWAr3"
      }
    },
    {
      "cell_type": "code",
      "source": [
        "model.save_weights(\"fashion_model.h5\")"
      ],
      "metadata": {
        "id": "wrXk3XTzWFpn"
      },
      "execution_count": 45,
      "outputs": []
    }
  ]
}