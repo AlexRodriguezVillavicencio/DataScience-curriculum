{
  "nbformat": 4,
  "nbformat_minor": 0,
  "metadata": {
    "colab": {
      "provenance": [],
      "authorship_tag": "ABX9TyOlh5jrwFqQAn1sR+aozycX",
      "include_colab_link": true
    },
    "kernelspec": {
      "name": "python3",
      "display_name": "Python 3"
    },
    "language_info": {
      "name": "python"
    }
  },
  "cells": [
    {
      "cell_type": "markdown",
      "metadata": {
        "id": "view-in-github",
        "colab_type": "text"
      },
      "source": [
        "<a href=\"https://colab.research.google.com/github/AlexRodriguezVillavicencio/DataScience-curriculum/blob/alex/tutoria/tiposGraficos.ipynb\" target=\"_parent\"><img src=\"https://colab.research.google.com/assets/colab-badge.svg\" alt=\"Open In Colab\"/></a>"
      ]
    },
    {
      "cell_type": "markdown",
      "source": [
        "# $$\\text{Tipos de Gráficos}$$\n",
        "\n",
        "Un gráfico estadístico es una representación visual de una serie de datos estadísticos. Es una\n",
        "herramienta muy eficaz, ya que un `buen gráfico`:\n",
        "- capta la atención del lector\n",
        "- presenta la información de forma sencilla, clara y precisa\n",
        "- no induce a error\n",
        "- facilita la comparación de datos y destaca las tendencias y las diferencias\n",
        "- ilustra el mensaje, tema o trama del texto al que acompaña"
      ],
      "metadata": {
        "id": "k0LCxe7BUykW"
      }
    },
    {
      "cell_type": "code",
      "source": [
        "import matplotlib.pyplot as plt \n",
        "import seaborn as sns \n",
        "import plotly.graph_objects as go\n",
        "\n",
        "import pandas as pd \n",
        "import numpy as np"
      ],
      "metadata": {
        "id": "e-1NPo9EXNSa"
      },
      "execution_count": null,
      "outputs": []
    },
    {
      "cell_type": "markdown",
      "source": [
        "## Gráfico de barras\n",
        "\n",
        "Es una representación gráfica en un eje cartesiano de las frecuencias de una\n",
        "variable `cualitativa` o `discreta`."
      ],
      "metadata": {
        "id": "gumo1025U7AT"
      }
    },
    {
      "cell_type": "code",
      "source": [
        "# Producción de cereales en España. 2007 (Millones de toneladas)\n",
        "df_barras = pd.DataFrame()\n",
        "df_barras['cereales'] = np.array(['cebada','trigo','avena','centeno'])\n",
        "df_barras['miles_toneladas'] = np.array([11945,6436,4310,261])"
      ],
      "metadata": {
        "id": "ZpqgFhBKdAfx"
      },
      "execution_count": null,
      "outputs": []
    },
    {
      "cell_type": "markdown",
      "source": [
        "### grafico de barras simple"
      ],
      "metadata": {
        "id": "ojAmz4IPUQmG"
      }
    },
    {
      "cell_type": "code",
      "source": [
        "# gráfico de barras en matplotlib\n",
        "plt.rcParams['figure.facecolor'] = 'black'\n",
        "plt.rcParams['axes.facecolor'] = 'black'\n",
        "plt.rcParams['text.color'] = 'white'\n",
        "plt.rcParams['xtick.color'] = 'white'\n",
        "plt.rcParams['ytick.color'] = 'white'\n",
        "colors = np.array(['red','orange','green','blue'])\n",
        "plt.bar(df_barras.cereales,df_barras.miles_toneladas,color=colors)\n",
        "plt.title(\"Producción de cereales en España 2007\")\n",
        "plt.show()"
      ],
      "metadata": {
        "id": "IZH89vreaKQr"
      },
      "execution_count": null,
      "outputs": []
    },
    {
      "cell_type": "code",
      "source": [
        "# gráfico de barras en seaborn\n",
        "sns.barplot(x=df_barras.cereales,y=df_barras.miles_toneladas,palette=colors)\n",
        "plt.title(\"Producción de cereales en España 2007\")\n",
        "plt.show()"
      ],
      "metadata": {
        "id": "Ld7Os8g3aqXe"
      },
      "execution_count": null,
      "outputs": []
    },
    {
      "cell_type": "code",
      "source": [
        "def estilos_plotly(title, fig, width=400):\n",
        "  fig.update_layout(\n",
        "    title=title,\n",
        "    height=300,\n",
        "    width=width,  \n",
        "    plot_bgcolor='black',\n",
        "    paper_bgcolor= 'black',\n",
        "    font_color='white',\n",
        "    xaxis=dict(showgrid=False),\n",
        "    yaxis=dict(showgrid=False),\n",
        "    margin=dict(l=10,r=10,b=10,t=50),\n",
        "    )\n",
        "  return fig"
      ],
      "metadata": {
        "id": "fLQIGoLN1T58"
      },
      "execution_count": null,
      "outputs": []
    },
    {
      "cell_type": "code",
      "source": [
        "# gráfico de barras en plotly\n",
        "fig = go.Figure(\n",
        "    data=[go.Bar(x=df_barras.cereales,y=df_barras.miles_toneladas, text=df_barras.miles_toneladas)],\n",
        ")\n",
        "estilos_plotly(title=\"Producción de cereales en España 2007\",fig=fig)\n",
        "fig.data[0].marker.color = ('red','orange','green','blue')\n",
        "fig.show()"
      ],
      "metadata": {
        "id": "OzBDKBtXbM7u"
      },
      "execution_count": null,
      "outputs": []
    },
    {
      "cell_type": "markdown",
      "source": [
        "### Grafico de barras apilado y agrupado"
      ],
      "metadata": {
        "id": "VMdA6cn_UekU"
      }
    },
    {
      "cell_type": "code",
      "source": [
        "# Número de estudiantes en un centro educativo\n",
        "labels = ['Aula1', 'Aula2', 'Aula3', 'Aula4']\n",
        "men = [20, 34, 30, 35]\n",
        "women = [25, 32, 34, 20]\n",
        "\n",
        "x = np.arange(len(labels))\n",
        "plt.bar(x - 0.35/2, men, width=0.35, label='Hombres')\n",
        "plt.bar(x + 0.35/2, women, width=0.35, label='Mujeres')\n",
        "plt.xticks(x, labels)\n",
        "plt.legend()\n",
        "plt.show()"
      ],
      "metadata": {
        "id": "Nmcy-lLV4Xnt"
      },
      "execution_count": null,
      "outputs": []
    },
    {
      "cell_type": "code",
      "source": [
        "plt.bar(labels, men,width=.3,label='Hombres')\n",
        "plt.bar(labels, women,width=.2,label='Mujeres')\n",
        "plt.legend()\n",
        "plt.show()"
      ],
      "metadata": {
        "id": "qEGXRI60Bk1k"
      },
      "execution_count": null,
      "outputs": []
    },
    {
      "cell_type": "code",
      "source": [
        "df2 = pd.DataFrame()\n",
        "df2['alumno'] = ['pedro','maria','jesus','alberto','susana','juan','nicolas','jose']\n",
        "df2['titulo'] = ['artes','tecnologia','artes','artes','tecnologia','artes','artes','tecnologia']\n",
        "df2['institucion'] = ['privado','privado','publico','publico','privado','publico','publico','publico']\n",
        "df2['edad']=[20,21,24,20,25,23,28,23]"
      ],
      "metadata": {
        "id": "MAL70ob9EJum"
      },
      "execution_count": null,
      "outputs": []
    },
    {
      "cell_type": "code",
      "source": [
        "# transformamo la tabla\n",
        "df = df2.groupby(['titulo','institucion']).count()\n",
        "df = df.reset_index()\n",
        "# graficando\n",
        "sns.barplot(x=\"titulo\",y=\"alumno\",hue=\"institucion\",data=df)\n",
        "plt.show()"
      ],
      "metadata": {
        "id": "ChsoLej-Jujy"
      },
      "execution_count": null,
      "outputs": []
    },
    {
      "cell_type": "code",
      "source": [
        "import plotly.express as px\n",
        "\n",
        "fig = px.bar(df, x=\"titulo\", y=\"alumno\",\n",
        "             color=\"institucion\",\n",
        "             barmode = 'group')\n",
        "estilos_plotly(\"\",fig)   \n",
        "fig.show()"
      ],
      "metadata": {
        "id": "rtw4PAxWO4SA"
      },
      "execution_count": null,
      "outputs": []
    },
    {
      "cell_type": "markdown",
      "source": [
        "## Histogramas\n",
        "\n",
        "Se usa para representar las frecuencias de una variable `cuantitativa continua`."
      ],
      "metadata": {
        "id": "OvSzLqwyVBH_"
      }
    },
    {
      "cell_type": "code",
      "source": [
        "# histograma en matplotlib\n",
        "plt.hist(df2.edad, bins=3)\n",
        "plt.show()"
      ],
      "metadata": {
        "id": "RuXN1zwtdc_n"
      },
      "execution_count": null,
      "outputs": []
    },
    {
      "cell_type": "code",
      "source": [
        "# histograma en seaborn\n",
        "sns.histplot(df2.edad, bins=3)\n",
        "plt.show()"
      ],
      "metadata": {
        "id": "HZ9_lwFHeE2m"
      },
      "execution_count": null,
      "outputs": []
    },
    {
      "cell_type": "code",
      "source": [
        "fig = go.Figure(\n",
        "    data=[\n",
        "        go.Histogram(x=df2.edad,xbins=dict(start=20,end=28,size=3))\n",
        "    ]\n",
        ")\n",
        "estilos_plotly(\"\",fig)\n",
        "fig.show()"
      ],
      "metadata": {
        "id": "Z8BxtBBefGLO"
      },
      "execution_count": null,
      "outputs": []
    },
    {
      "cell_type": "markdown",
      "source": [
        "## Series de tiempo | Gráfico de lineas\n",
        "\n",
        "Un gráfico de líneas es una representación gráfica en un eje cartesiano de la relación\n",
        "que existe entre dos variables reflejando con claridad los cambios producidos.\n",
        "\n",
        "- Se suelen usar para presentar tendencias\n",
        "temporales. \n",
        "- Pueden aparecer varias variables para compararlas."
      ],
      "metadata": {
        "id": "08yx-X_4VKR5"
      }
    },
    {
      "cell_type": "code",
      "source": [
        "time_series_df = pd.read_csv('sample_data/Time Series Data.csv')\n",
        "print(time_series_df.shape)\n",
        "time_series_df.head(3)"
      ],
      "metadata": {
        "id": "zqU56C4Vd-Fo"
      },
      "execution_count": null,
      "outputs": []
    },
    {
      "cell_type": "code",
      "source": [
        "# representación en matplotlib\n",
        "plt.figure(figsize=(16,4))\n",
        "plt.plot_date(time_series_df.Date,time_series_df.Close, linestyle='solid')\n",
        "plt.show()"
      ],
      "metadata": {
        "id": "NZGjOFBJjhDv"
      },
      "execution_count": null,
      "outputs": []
    },
    {
      "cell_type": "code",
      "source": [
        "# representación en seaborn\n",
        "plt.figure(figsize=(16,4))\n",
        "sns.lineplot(x= time_series_df.Date,y=time_series_df.Close,marker=\"o\")\n",
        "plt.show()"
      ],
      "metadata": {
        "id": "pW75H-ptk1KL"
      },
      "execution_count": null,
      "outputs": []
    },
    {
      "cell_type": "code",
      "source": [
        "# representación en plotly\n",
        "fig = go.Figure(data=[\n",
        "    go.Scatter(x=time_series_df.Date, y=time_series_df.Close,name='close'),\n",
        "    go.Scatter(x=time_series_df.Date, y=time_series_df.Open,name='open'),\n",
        "    ])\n",
        "estilos_plotly(\"\",fig, width=900)\n",
        "fig.show()"
      ],
      "metadata": {
        "id": "teiFIEmon-qE"
      },
      "execution_count": null,
      "outputs": []
    },
    {
      "cell_type": "markdown",
      "source": [
        "## Gráfico de pareto\n",
        "\n",
        "Un gráfico de Pareto es un tipo de gráfico de barras vertical ordenado por frecuencias\n",
        "de forma descendente que identifica y da un orden de prioridad a los datos.\n",
        "\n",
        "Este gráfico muestra el Principio de Pareto, formulado por el estadístico italiano Vilfredo Pareto\n",
        "(1848-1923) :\n",
        "pocos vitales, muchos triviales\n",
        "Es decir, hay muchos problemas sin importancia frente a unos pocos graves ya que, por lo general,\n",
        "el 20% de las causas totales hacen que sean originados el 80% de los efectos.\n",
        "Pareto formuló este Principio tras un estudio sobre la distribución de la riqueza con el que\n",
        "estableció que la desigualdad económica es inevitable en cualquier sociedad. "
      ],
      "metadata": {
        "id": "QK3ayWrhtYEj"
      }
    },
    {
      "cell_type": "code",
      "source": [
        "from matplotlib.ticker import PercentFormatter\n",
        "\n",
        "df = pd.DataFrame({'country': [177.0, 7.0, 4.0, 2.0, 2.0, 1.0, 1.0, 1.0]})\n",
        "df.index = ['USA', 'Canada', 'Russia', 'UK', 'Belgium', 'Mexico', 'Germany', 'Denmark']\n",
        "\n",
        "# ordenamos los valores\n",
        "df = df.sort_values(by='country',ascending=False)\n",
        "# suma acumulada\n",
        "df[\"fa\"] = df[\"country\"].cumsum()/df[\"country\"].sum()*100\n",
        "\n",
        "\n",
        "plt.figure(figsize=(12,4))\n",
        "plt.bar(df.index, df[\"country\"], color=\"C0\")\n",
        "ax2 = plt.twinx()\n",
        "ax2.plot(df.index, df[\"fa\"], color=\"C1\", marker=\"D\")\n",
        "ax2.yaxis.set_major_formatter(PercentFormatter())\n",
        "plt.show()"
      ],
      "metadata": {
        "id": "qvEtXPmFq-Xk"
      },
      "execution_count": null,
      "outputs": []
    },
    {
      "cell_type": "markdown",
      "source": [
        "## Gráfico de sectores | Torta | circular\n",
        "\n",
        "Un gráfico de sectores es una representación circular de las frecuencias relativas de una\n",
        "variable `cualitativa` o `discreta` que permite, de una manera sencilla y rápida, su comparación.\n",
        "\n",
        "Son útiles cuando las categorías son pocas.\n",
        "Si el gráfico tuviera muchas variables, no aportaría casi información y sería prácticamente\n",
        "incomprensible, como ocurre en el siguiente ejemplo."
      ],
      "metadata": {
        "id": "IGtGRXP6tv5Y"
      }
    },
    {
      "cell_type": "code",
      "source": [
        "# grafica en matplotlib\n",
        "plt.pie(df.country,autopct='%1.1f%%')\n",
        "plt.legend(labels=df.index,\n",
        "          bbox_to_anchor=(1, 0, 0.5, 1))\n",
        "plt.show() "
      ],
      "metadata": {
        "id": "PzGMVwi2t-Oa"
      },
      "execution_count": null,
      "outputs": []
    },
    {
      "cell_type": "code",
      "source": [
        "# grafica en plotly\n",
        "fig = px.pie(df, values=df.country, names=df.index)\n",
        "estilos_plotly(\"\",fig)\n",
        "fig.show()"
      ],
      "metadata": {
        "id": "CkxGkpRk0Euu"
      },
      "execution_count": null,
      "outputs": []
    },
    {
      "cell_type": "markdown",
      "source": [
        "Son útiles cuando las categorías son pocas.\n",
        "Si el gráfico tuviera muchas variables, no aportaría casi información y sería prácticamente\n",
        "incomprensible, como ocurre en el siguiente ejemplo."
      ],
      "metadata": {
        "id": "_v3Y9qpDwizj"
      }
    },
    {
      "cell_type": "code",
      "source": [
        "df = px.data.gapminder().query(\"year == 2007\").query(\"continent == 'Europe'\")\n",
        "df.loc[df['pop'] < 2.e6, 'country'] = 'Other countries' \n",
        "fig = px.pie(df, values='pop', names='country', title='Population of European continent')\n",
        "estilos_plotly(\"\",fig)\n",
        "fig.show()"
      ],
      "metadata": {
        "id": "Tddg4hL2zd4m"
      },
      "execution_count": null,
      "outputs": []
    },
    {
      "cell_type": "markdown",
      "source": [
        "## Diagramas de dispersión y correlación\n",
        "\n",
        "Un gráfico de dispersión muestra en un eje cartesiano la relación que existe entre dos variables."
      ],
      "metadata": {
        "id": "qmOGz2XEVO5U"
      }
    },
    {
      "cell_type": "code",
      "source": [
        "url = ('https://raw.githubusercontent.com/JoaquinAmatRodrigo/' +\n",
        "       'Estadistica-machine-learning-python/master/data/Cars93.csv')\n",
        "datos1 = pd.read_csv(url)\n",
        "datos1['log_Price'] = np.log(datos1.Price)\n",
        "\n",
        "datos2_X = [1,1,2,3,3,4,4,5,5,5,5,5,6,7,8,9,10]\n",
        "datos2_y = [1,4,5,6,7,8,9,8,10,10,10,9,8,5,3,1,1]\n",
        "\n",
        "fig, ax = plt.subplots(ncols=2, nrows=1, figsize=(14,4))\n",
        "# correlacion lineal\n",
        "ax[0].scatter(x=datos1.Weight, y=datos1.log_Price, alpha= 0.8)\n",
        "# correlacion no lineal\n",
        "ax[1].scatter(x=datos2_X, y=datos2_y)\n",
        "plt.show()"
      ],
      "metadata": {
        "id": "_rydwr_i4Ltk"
      },
      "execution_count": null,
      "outputs": []
    },
    {
      "cell_type": "markdown",
      "source": [
        "## Mapa de calor y correlación"
      ],
      "metadata": {
        "id": "Bo346ZDn4YGV"
      }
    },
    {
      "cell_type": "code",
      "source": [
        "correlacion = time_series_df.corr()\n",
        "sns.heatmap(correlacion, annot=True)\n",
        "plt.show()"
      ],
      "metadata": {
        "id": "wctqsVSb28Cj"
      },
      "execution_count": null,
      "outputs": []
    },
    {
      "cell_type": "markdown",
      "source": [
        "## Caja y bigotes (boxplot)\n",
        "\n",
        "Un diagrama de cajas y bigotes es una manera conveniente de mostrar visualmente grupos de datos numéricos a través de sus cuartiles."
      ],
      "metadata": {
        "id": "0aG0JhDwVeS8"
      }
    },
    {
      "cell_type": "code",
      "source": [
        "plt.figure(figsize=(10,4))\n",
        "sns.boxplot(data=time_series_df, x=\"Volume\")\n",
        "plt.show()"
      ],
      "metadata": {
        "id": "__G2sEY66Ax2"
      },
      "execution_count": null,
      "outputs": []
    },
    {
      "cell_type": "markdown",
      "source": [
        "## Gráficos en 3 dimensiones"
      ],
      "metadata": {
        "id": "-7d7kYIEVlQT"
      }
    },
    {
      "cell_type": "code",
      "source": [
        "fig = px.scatter_3d(time_series_df, x='Date', y='Open', z='Close')\n",
        "estilos_plotly(\"\",fig,width=600)\n",
        "fig.show()"
      ],
      "metadata": {
        "id": "H5_rtqhz7hop"
      },
      "execution_count": null,
      "outputs": []
    },
    {
      "cell_type": "markdown",
      "source": [
        "# Gráficos de más de 3 dimensiones"
      ],
      "metadata": {
        "id": "GQO8Gg9TVtiN"
      }
    },
    {
      "cell_type": "markdown",
      "source": [
        "### Gráficos de Radar\n",
        "\n",
        "Surge para mostrar observaciones en varias variables, y tratar de compararlas visualmente."
      ],
      "metadata": {
        "id": "0-HNPL3DV5n5"
      }
    },
    {
      "cell_type": "code",
      "source": [
        "# Datos de muestra\n",
        "df = pd.DataFrame(dict(\n",
        "    valor = [8, 12, 7, 14, 10],\n",
        "    variable = ['V1', 'V2', 'V3', 'V4', 'V5']))\n",
        "           \n",
        "fig = px.line_polar(df, r = 'valor', theta = 'variable', line_close = True)\n",
        "fig.update_traces(fill = 'toself')\n",
        "estilos_plotly(\"\",fig)\n",
        "fig.show()"
      ],
      "metadata": {
        "id": "KDw5y7dh8zCJ"
      },
      "execution_count": null,
      "outputs": []
    }
  ]
}