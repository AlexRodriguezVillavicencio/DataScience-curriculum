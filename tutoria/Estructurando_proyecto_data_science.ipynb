{
  "nbformat": 4,
  "nbformat_minor": 0,
  "metadata": {
    "colab": {
      "provenance": [],
      "authorship_tag": "ABX9TyPg3wCuSMsiV8FVMOFwMMIO",
      "include_colab_link": true
    },
    "kernelspec": {
      "name": "python3",
      "display_name": "Python 3"
    },
    "language_info": {
      "name": "python"
    }
  },
  "cells": [
    {
      "cell_type": "markdown",
      "metadata": {
        "id": "view-in-github",
        "colab_type": "text"
      },
      "source": [
        "<a href=\"https://colab.research.google.com/github/AlexRodriguezVillavicencio/DataScience-curriculum/blob/alex/tutoria/Estructurando_proyecto_data_science.ipynb\" target=\"_parent\"><img src=\"https://colab.research.google.com/assets/colab-badge.svg\" alt=\"Open In Colab\"/></a>"
      ]
    },
    {
      "cell_type": "markdown",
      "source": [
        "# $$\\text{Modelo de clasificación de satisfacción de clientes de vuelos comerciales}$$"
      ],
      "metadata": {
        "id": "cg7AnT5tHBrd"
      }
    },
    {
      "cell_type": "markdown",
      "source": [
        "## Resumen:\n",
        "\n",
        "El problema al cual se enfrenta la empresa es poseer un bajo nivel de satisfaccion de sus pasajeros y si no se toma medidas para solucionarlo, podrian tener un serio problema de flujo de ingreso de dinero ya que podria hacerse la fama de que no brinda un buen servicio y los usuarios obtarian por tomar otra aerolinea, lo cual seria sumamente problematico para la empresa. \n",
        "\n",
        "Al realizar el análisis quizás podamos obtener conclusiones de que nuestro publico mas importante se concentra en un determinado rango de edad,el genero o el tipo de viaje. \n",
        "Dependiendo la importancia que nos represente este publico otra opcion seria enfocarnos en la satisfaccion de este publico que nos podria brindar un mayor beneficio economico y quizas no hacer tanto foco en algun segmento de publico al cual sea dificil satisfacer y que no nos brinde un aporte economico demasiado alto, estas conclusiones se iran dando a medida que avancemos con el proyecto de analisis, al realizar el proyecto tendremos una idea mas clara hacia donde debe apuntar la empresa. "
      ],
      "metadata": {
        "id": "IoSbUMeXUjll"
      }
    },
    {
      "cell_type": "code",
      "source": [
        "import pandas as pd \n",
        "import numpy as np \n",
        "import matplotlib.pyplot as plt\n",
        "import seaborn as sns"
      ],
      "metadata": {
        "id": "EjwWZfVaVBX3"
      },
      "execution_count": null,
      "outputs": []
    },
    {
      "cell_type": "markdown",
      "source": [
        "## Objetivo:\n",
        "\n",
        "Realizar un modelo de clasificación para predecir el rango de satisfacción de los futuros usuarios de los vuelos comerciales."
      ],
      "metadata": {
        "id": "rRhc0YhNU6p1"
      }
    },
    {
      "cell_type": "markdown",
      "source": [
        "\n",
        "\n",
        "## Contexto comercial:\n",
        "\n",
        " \"VUELA ALTO\" es una empresa de vuelos comerciales, centrado en la satisfacción de sus clientes, como el tiempo de espera, comodidad, precio, rapidez en el servicio, etc. \n",
        " Esta estrátegia los ha llevado a posicionarse en el mercado, pese a que existen muchos competidores.\n",
        " \n",
        "\n",
        "## Problema Comercial:\n",
        "\n",
        "En los últimos meses esta estratégia se ha visto amenazada, y es que los clientes reportan insatisfación de una manera constante.\n",
        "\n",
        "Se nos pidió analizar la data y responder a algunas interrogantes de la directiva como:\n",
        "\n",
        "- ¿Que servicios son los que tienen menor rating?\n",
        "\n",
        "- ¿Que tipo de segmentación es en la que deberiamos de enfocar nuestras estratégias? (refiriendonos a segmentación al grupo de personas por edad, genero, tipo de vuelo relacionado al tipo de clase, etc)\n",
        "\n",
        "- ¿Cuales serían los servicios (columnas) que más impacto tienen a la hora de catalogar como satisfecho a nuestro servicio en general?\n",
        "\n",
        "Además de ello encontrar más \"insights\" que a la directiva nos se les ocurrió o pasaron por alto."
      ],
      "metadata": {
        "id": "F7oeaz9zHZR_"
      }
    },
    {
      "cell_type": "code",
      "source": [
        "df = pd.read_csv(\"sample_data/data.csv\", delimiter=\";\")\n",
        "df = df.iloc[:, 1:]\n",
        "df.columns.tolist()"
      ],
      "metadata": {
        "colab": {
          "base_uri": "https://localhost:8080/"
        },
        "id": "2liqSc_8Q3Lj",
        "outputId": "7756d063-ded7-473e-a589-ac48cdddd69f"
      },
      "execution_count": 18,
      "outputs": [
        {
          "output_type": "execute_result",
          "data": {
            "text/plain": [
              "['id',\n",
              " 'Gender',\n",
              " 'Customer Type',\n",
              " 'Age',\n",
              " 'Type of Travel',\n",
              " 'Class',\n",
              " 'Flight Distance',\n",
              " 'Inflight wifi service',\n",
              " 'Departure/Arrival time convenient',\n",
              " 'Ease of Online booking',\n",
              " 'Gate location',\n",
              " 'Food and drink',\n",
              " 'Online boarding',\n",
              " 'Seat comfort',\n",
              " 'Inflight entertainment',\n",
              " 'On-board service',\n",
              " 'Leg room service',\n",
              " 'Baggage handling',\n",
              " 'Checkin service',\n",
              " 'Inflight service',\n",
              " 'Cleanliness',\n",
              " 'Departure Delay in Minutes',\n",
              " 'Arrival Delay in Minutes',\n",
              " 'satisfaction']"
            ]
          },
          "metadata": {},
          "execution_count": 18
        }
      ]
    },
    {
      "cell_type": "markdown",
      "source": [
        "## Contexto analítico:\n",
        "\n",
        "Se nos proporcionó la data en un archivo CSV, donde podemos ver varias columnas de servicios ofrecidos por la compañia, dispuestas desde la columna 8 a la 23.\n",
        "\n",
        "Brindandonos también información booleana de satisfacción : si (satisfied) , no (neutral or dissatisfied). \n",
        "Además de otra data interante como el género, tipo de viaje, edad, distancia de vuelo.\n",
        "\n",
        "Además del análisis profundo de la data, se nos pidió un modelo de machine learning para predecir la satisfación de sus clientes."
      ],
      "metadata": {
        "id": "KanmIUQrcGLM"
      }
    },
    {
      "cell_type": "markdown",
      "source": [
        "## Hipótesis:\n",
        "\n",
        "- Mientras más tiempo demoré el vuelo en salir a su destino, aumentará la insatisfacción del cliente.\n",
        "\n",
        "- Mientras más tiempo demore el vuelo en llegar a su destino, aumentará la insatisfacción del cliente.\n",
        "\n",
        "- Los tipos de viaje por negocios son los que ponen el llegar a su destino y salir a su destino, más importantes que el resto de servicios.\n",
        "\n",
        "- La limpieza es uno de los servicios más importantes."
      ],
      "metadata": {
        "id": "RjLGNv1QHqRY"
      }
    },
    {
      "cell_type": "markdown",
      "source": [
        "## Análisis exploratorio de los datos (EDA):"
      ],
      "metadata": {
        "id": "TIo1Mp9EHvXn"
      }
    },
    {
      "cell_type": "code",
      "source": [
        "# aquí iría todas las visualizaciones que ya hiciste en los desafíos anteriores.\n",
        "# recuerda graficar las interrogantes que planteó el cliente (la directiva de la empresa).\n",
        "# y encontrar más insights (si es que los hubiera)\n",
        "\n",
        "# Por último y no menos importante, escribir una conclusión al final de tu EDA \n",
        "# es aquí donde se responde las interrogantes del cliente, \n",
        "# también puedes añadir recomendaciones y como abordarás los próximos pasos...."
      ],
      "metadata": {
        "id": "yOKmytOJjzhL"
      },
      "execution_count": null,
      "outputs": []
    },
    {
      "cell_type": "code",
      "source": [
        "######## NOTA ##############\n",
        "# el título y resumen irán cambiando a medida que se avance con la investigación"
      ],
      "metadata": {
        "id": "GS19TfrIknEb"
      },
      "execution_count": null,
      "outputs": []
    }
  ]
}