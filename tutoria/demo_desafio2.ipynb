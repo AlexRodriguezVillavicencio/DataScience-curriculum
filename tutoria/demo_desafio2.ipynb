{
  "nbformat": 4,
  "nbformat_minor": 0,
  "metadata": {
    "colab": {
      "provenance": [],
      "authorship_tag": "ABX9TyOEA9faR9iC9BJq4lrYHJIw",
      "include_colab_link": true
    },
    "kernelspec": {
      "name": "python3",
      "display_name": "Python 3"
    },
    "language_info": {
      "name": "python"
    }
  },
  "cells": [
    {
      "cell_type": "markdown",
      "metadata": {
        "id": "view-in-github",
        "colab_type": "text"
      },
      "source": [
        "<a href=\"https://colab.research.google.com/github/AlexRodriguezVillavicencio/DataScience-curriculum/blob/alex/tutoria/demo_desafio2.ipynb\" target=\"_parent\"><img src=\"https://colab.research.google.com/assets/colab-badge.svg\" alt=\"Open In Colab\"/></a>"
      ]
    },
    {
      "cell_type": "markdown",
      "source": [
        "# $$\\text{Demo Desafio 2}$$\n",
        "\n",
        "Fuente : https://www.kaggle.com/datasets/kriegsmaschine/polish-it-job-board-data-from-2022"
      ],
      "metadata": {
        "id": "SV4pMAINGXEZ"
      }
    },
    {
      "cell_type": "markdown",
      "source": [
        "`Contexto:` Se presenta un Dataset con información de la bolsa de trabajo de TI de Polonia del año 2022\n",
        "\n",
        "`Objetivo:` Analizar los datos y encontrar información relevante."
      ],
      "metadata": {
        "id": "-DBWzLPoGJxI"
      }
    },
    {
      "cell_type": "code",
      "source": [
        "import matplotlib.pyplot as plt\n",
        "import seaborn as sns \n",
        "import numpy as np\n",
        "import pandas as pd"
      ],
      "metadata": {
        "id": "ZerpaiJHK7Ii"
      },
      "execution_count": 1,
      "outputs": []
    },
    {
      "cell_type": "markdown",
      "source": [
        "## Importamos el Dataset"
      ],
      "metadata": {
        "id": "SMChNxSIMrDV"
      }
    },
    {
      "cell_type": "code",
      "source": [
        "df = pd.read_csv('./sample_data/polish_job.csv')\n",
        "print(f\"filas: {df.shape[0]} , columnas: {df.shape[1]}\")\n",
        "df.head(3)"
      ],
      "metadata": {
        "colab": {
          "base_uri": "https://localhost:8080/",
          "height": 377
        },
        "id": "ceSk5F0fLGxc",
        "outputId": "f8310232-ad5e-4292-83e0-c4893a9b861b"
      },
      "execution_count": 2,
      "outputs": [
        {
          "output_type": "stream",
          "name": "stdout",
          "text": [
            "filas: 37787 , columnas: 35\n"
          ]
        },
        {
          "output_type": "execute_result",
          "data": {
            "text/plain": [
              "                               Title      City Country_code Marker_icon  \\\n",
              "0  Senior Frontend Software Engineer    London           GB  javascript   \n",
              "1               Sr. Backend Engineer    Berlin           DE        java   \n",
              "2               Sr. Backend Engineer  Katowice           PL        java   \n",
              "\n",
              "  Workplace_type Experience_level              Published_at  Remote_interview  \\\n",
              "0         remote           senior  2022-07-31T11:00:14.548Z              True   \n",
              "1         remote           senior  2022-07-07T10:25:00.000Z              True   \n",
              "2         remote           senior  2022-05-31T11:32:00.000Z              True   \n",
              "\n",
              "   Remote Open_to_hire_Ukrainians  ... salary_from_other salary_to_other  \\\n",
              "0    True                    True  ...                 0               0   \n",
              "1    True                    True  ...                 0               0   \n",
              "2    True                    True  ...                 0               0   \n",
              "\n",
              "   salary_currency_other  currency_exchange_rate  skills_name_0  \\\n",
              "0                unknown                0.176806          React   \n",
              "1                unknown                0.179577         Kotlin   \n",
              "2                unknown                0.185871         Kotlin   \n",
              "\n",
              "  skills_value_0  skills_name_1  skills_value_1  skills_name_2 skills_value_2  \n",
              "0              5     TypeScript               5        unknown              0  \n",
              "1              3        Backend               4           Java              4  \n",
              "2              3        Backend               4           Java              4  \n",
              "\n",
              "[3 rows x 35 columns]"
            ],
            "text/html": [
              "\n",
              "  <div id=\"df-02018bf3-e593-4eeb-9048-b427a5a3e249\">\n",
              "    <div class=\"colab-df-container\">\n",
              "      <div>\n",
              "<style scoped>\n",
              "    .dataframe tbody tr th:only-of-type {\n",
              "        vertical-align: middle;\n",
              "    }\n",
              "\n",
              "    .dataframe tbody tr th {\n",
              "        vertical-align: top;\n",
              "    }\n",
              "\n",
              "    .dataframe thead th {\n",
              "        text-align: right;\n",
              "    }\n",
              "</style>\n",
              "<table border=\"1\" class=\"dataframe\">\n",
              "  <thead>\n",
              "    <tr style=\"text-align: right;\">\n",
              "      <th></th>\n",
              "      <th>Title</th>\n",
              "      <th>City</th>\n",
              "      <th>Country_code</th>\n",
              "      <th>Marker_icon</th>\n",
              "      <th>Workplace_type</th>\n",
              "      <th>Experience_level</th>\n",
              "      <th>Published_at</th>\n",
              "      <th>Remote_interview</th>\n",
              "      <th>Remote</th>\n",
              "      <th>Open_to_hire_Ukrainians</th>\n",
              "      <th>...</th>\n",
              "      <th>salary_from_other</th>\n",
              "      <th>salary_to_other</th>\n",
              "      <th>salary_currency_other</th>\n",
              "      <th>currency_exchange_rate</th>\n",
              "      <th>skills_name_0</th>\n",
              "      <th>skills_value_0</th>\n",
              "      <th>skills_name_1</th>\n",
              "      <th>skills_value_1</th>\n",
              "      <th>skills_name_2</th>\n",
              "      <th>skills_value_2</th>\n",
              "    </tr>\n",
              "  </thead>\n",
              "  <tbody>\n",
              "    <tr>\n",
              "      <th>0</th>\n",
              "      <td>Senior Frontend Software Engineer</td>\n",
              "      <td>London</td>\n",
              "      <td>GB</td>\n",
              "      <td>javascript</td>\n",
              "      <td>remote</td>\n",
              "      <td>senior</td>\n",
              "      <td>2022-07-31T11:00:14.548Z</td>\n",
              "      <td>True</td>\n",
              "      <td>True</td>\n",
              "      <td>True</td>\n",
              "      <td>...</td>\n",
              "      <td>0</td>\n",
              "      <td>0</td>\n",
              "      <td>unknown</td>\n",
              "      <td>0.176806</td>\n",
              "      <td>React</td>\n",
              "      <td>5</td>\n",
              "      <td>TypeScript</td>\n",
              "      <td>5</td>\n",
              "      <td>unknown</td>\n",
              "      <td>0</td>\n",
              "    </tr>\n",
              "    <tr>\n",
              "      <th>1</th>\n",
              "      <td>Sr. Backend Engineer</td>\n",
              "      <td>Berlin</td>\n",
              "      <td>DE</td>\n",
              "      <td>java</td>\n",
              "      <td>remote</td>\n",
              "      <td>senior</td>\n",
              "      <td>2022-07-07T10:25:00.000Z</td>\n",
              "      <td>True</td>\n",
              "      <td>True</td>\n",
              "      <td>True</td>\n",
              "      <td>...</td>\n",
              "      <td>0</td>\n",
              "      <td>0</td>\n",
              "      <td>unknown</td>\n",
              "      <td>0.179577</td>\n",
              "      <td>Kotlin</td>\n",
              "      <td>3</td>\n",
              "      <td>Backend</td>\n",
              "      <td>4</td>\n",
              "      <td>Java</td>\n",
              "      <td>4</td>\n",
              "    </tr>\n",
              "    <tr>\n",
              "      <th>2</th>\n",
              "      <td>Sr. Backend Engineer</td>\n",
              "      <td>Katowice</td>\n",
              "      <td>PL</td>\n",
              "      <td>java</td>\n",
              "      <td>remote</td>\n",
              "      <td>senior</td>\n",
              "      <td>2022-05-31T11:32:00.000Z</td>\n",
              "      <td>True</td>\n",
              "      <td>True</td>\n",
              "      <td>True</td>\n",
              "      <td>...</td>\n",
              "      <td>0</td>\n",
              "      <td>0</td>\n",
              "      <td>unknown</td>\n",
              "      <td>0.185871</td>\n",
              "      <td>Kotlin</td>\n",
              "      <td>3</td>\n",
              "      <td>Backend</td>\n",
              "      <td>4</td>\n",
              "      <td>Java</td>\n",
              "      <td>4</td>\n",
              "    </tr>\n",
              "  </tbody>\n",
              "</table>\n",
              "<p>3 rows × 35 columns</p>\n",
              "</div>\n",
              "      <button class=\"colab-df-convert\" onclick=\"convertToInteractive('df-02018bf3-e593-4eeb-9048-b427a5a3e249')\"\n",
              "              title=\"Convert this dataframe to an interactive table.\"\n",
              "              style=\"display:none;\">\n",
              "        \n",
              "  <svg xmlns=\"http://www.w3.org/2000/svg\" height=\"24px\"viewBox=\"0 0 24 24\"\n",
              "       width=\"24px\">\n",
              "    <path d=\"M0 0h24v24H0V0z\" fill=\"none\"/>\n",
              "    <path d=\"M18.56 5.44l.94 2.06.94-2.06 2.06-.94-2.06-.94-.94-2.06-.94 2.06-2.06.94zm-11 1L8.5 8.5l.94-2.06 2.06-.94-2.06-.94L8.5 2.5l-.94 2.06-2.06.94zm10 10l.94 2.06.94-2.06 2.06-.94-2.06-.94-.94-2.06-.94 2.06-2.06.94z\"/><path d=\"M17.41 7.96l-1.37-1.37c-.4-.4-.92-.59-1.43-.59-.52 0-1.04.2-1.43.59L10.3 9.45l-7.72 7.72c-.78.78-.78 2.05 0 2.83L4 21.41c.39.39.9.59 1.41.59.51 0 1.02-.2 1.41-.59l7.78-7.78 2.81-2.81c.8-.78.8-2.07 0-2.86zM5.41 20L4 18.59l7.72-7.72 1.47 1.35L5.41 20z\"/>\n",
              "  </svg>\n",
              "      </button>\n",
              "      \n",
              "  <style>\n",
              "    .colab-df-container {\n",
              "      display:flex;\n",
              "      flex-wrap:wrap;\n",
              "      gap: 12px;\n",
              "    }\n",
              "\n",
              "    .colab-df-convert {\n",
              "      background-color: #E8F0FE;\n",
              "      border: none;\n",
              "      border-radius: 50%;\n",
              "      cursor: pointer;\n",
              "      display: none;\n",
              "      fill: #1967D2;\n",
              "      height: 32px;\n",
              "      padding: 0 0 0 0;\n",
              "      width: 32px;\n",
              "    }\n",
              "\n",
              "    .colab-df-convert:hover {\n",
              "      background-color: #E2EBFA;\n",
              "      box-shadow: 0px 1px 2px rgba(60, 64, 67, 0.3), 0px 1px 3px 1px rgba(60, 64, 67, 0.15);\n",
              "      fill: #174EA6;\n",
              "    }\n",
              "\n",
              "    [theme=dark] .colab-df-convert {\n",
              "      background-color: #3B4455;\n",
              "      fill: #D2E3FC;\n",
              "    }\n",
              "\n",
              "    [theme=dark] .colab-df-convert:hover {\n",
              "      background-color: #434B5C;\n",
              "      box-shadow: 0px 1px 3px 1px rgba(0, 0, 0, 0.15);\n",
              "      filter: drop-shadow(0px 1px 2px rgba(0, 0, 0, 0.3));\n",
              "      fill: #FFFFFF;\n",
              "    }\n",
              "  </style>\n",
              "\n",
              "      <script>\n",
              "        const buttonEl =\n",
              "          document.querySelector('#df-02018bf3-e593-4eeb-9048-b427a5a3e249 button.colab-df-convert');\n",
              "        buttonEl.style.display =\n",
              "          google.colab.kernel.accessAllowed ? 'block' : 'none';\n",
              "\n",
              "        async function convertToInteractive(key) {\n",
              "          const element = document.querySelector('#df-02018bf3-e593-4eeb-9048-b427a5a3e249');\n",
              "          const dataTable =\n",
              "            await google.colab.kernel.invokeFunction('convertToInteractive',\n",
              "                                                     [key], {});\n",
              "          if (!dataTable) return;\n",
              "\n",
              "          const docLinkHtml = 'Like what you see? Visit the ' +\n",
              "            '<a target=\"_blank\" href=https://colab.research.google.com/notebooks/data_table.ipynb>data table notebook</a>'\n",
              "            + ' to learn more about interactive tables.';\n",
              "          element.innerHTML = '';\n",
              "          dataTable['output_type'] = 'display_data';\n",
              "          await google.colab.output.renderOutput(dataTable, element);\n",
              "          const docLink = document.createElement('div');\n",
              "          docLink.innerHTML = docLinkHtml;\n",
              "          element.appendChild(docLink);\n",
              "        }\n",
              "      </script>\n",
              "    </div>\n",
              "  </div>\n",
              "  "
            ]
          },
          "metadata": {},
          "execution_count": 2
        }
      ]
    },
    {
      "cell_type": "markdown",
      "source": [
        "Como la salida no nos permite ver toda la columnas, usemos la función \"iloc\" para ir recorriendo toda la tabla y ver los datos.\n",
        "\n",
        "Por ejemplo \n",
        "```\n",
        "df.iloc[343:346,12:29]\n",
        "```"
      ],
      "metadata": {
        "id": "AkU3NxsFrw1W"
      }
    },
    {
      "cell_type": "markdown",
      "source": [
        "## Analizamos el Dataset"
      ],
      "metadata": {
        "id": "dWFMhGsSMuNN"
      }
    },
    {
      "cell_type": "code",
      "source": [
        "df.info()"
      ],
      "metadata": {
        "colab": {
          "base_uri": "https://localhost:8080/"
        },
        "id": "CmlFtbcRbXzJ",
        "outputId": "ab370d2f-0b13-4ff6-8f25-2e53df867509"
      },
      "execution_count": 3,
      "outputs": [
        {
          "output_type": "stream",
          "name": "stdout",
          "text": [
            "<class 'pandas.core.frame.DataFrame'>\n",
            "RangeIndex: 37787 entries, 0 to 37786\n",
            "Data columns (total 35 columns):\n",
            " #   Column                     Non-Null Count  Dtype  \n",
            "---  ------                     --------------  -----  \n",
            " 0   Title                      37787 non-null  object \n",
            " 1   City                       37787 non-null  object \n",
            " 2   Country_code               37754 non-null  object \n",
            " 3   Marker_icon                37787 non-null  object \n",
            " 4   Workplace_type             37787 non-null  object \n",
            " 5   Experience_level           37787 non-null  object \n",
            " 6   Published_at               37787 non-null  object \n",
            " 7   Remote_interview           37787 non-null  bool   \n",
            " 8   Remote                     37787 non-null  bool   \n",
            " 9   Open_to_hire_Ukrainians    32585 non-null  object \n",
            " 10  Company_size_from          37732 non-null  object \n",
            " 11  Company_size_to            37748 non-null  object \n",
            " 12  if_permanent               37787 non-null  bool   \n",
            " 13  salary_from_permanent      37787 non-null  float64\n",
            " 14  salary_to_permanent        37787 non-null  float64\n",
            " 15  salary_currency_permanent  37787 non-null  object \n",
            " 16  if_b2b                     37787 non-null  bool   \n",
            " 17  salary_from_b2b            37787 non-null  float64\n",
            " 18  salary_to_b2b              37787 non-null  float64\n",
            " 19  salary_currency_b2b        37787 non-null  object \n",
            " 20  if_mandate                 37787 non-null  bool   \n",
            " 21  salary_from_mandate        37787 non-null  float64\n",
            " 22  salary_to_mandate          37787 non-null  float64\n",
            " 23  salary_currency_mandate    37787 non-null  object \n",
            " 24  if_other                   37787 non-null  bool   \n",
            " 25  salary_from_other          37787 non-null  int64  \n",
            " 26  salary_to_other            37787 non-null  int64  \n",
            " 27  salary_currency_other      37787 non-null  object \n",
            " 28  currency_exchange_rate     37787 non-null  float64\n",
            " 29  skills_name_0              37786 non-null  object \n",
            " 30  skills_value_0             37787 non-null  int64  \n",
            " 31  skills_name_1              37787 non-null  object \n",
            " 32  skills_value_1             37787 non-null  int64  \n",
            " 33  skills_name_2              37783 non-null  object \n",
            " 34  skills_value_2             37787 non-null  int64  \n",
            "dtypes: bool(6), float64(7), int64(5), object(17)\n",
            "memory usage: 8.6+ MB\n"
          ]
        }
      ]
    },
    {
      "cell_type": "markdown",
      "source": [
        "Veamos un poco las variables categóricas..."
      ],
      "metadata": {
        "id": "zgyfE57GewVn"
      }
    },
    {
      "cell_type": "code",
      "source": [
        "df['salary_currency_permanent'].unique()"
      ],
      "metadata": {
        "colab": {
          "base_uri": "https://localhost:8080/"
        },
        "id": "E6ieheGScfAL",
        "outputId": "366bcc18-0143-48ed-d291-5443cc0778ab"
      },
      "execution_count": 4,
      "outputs": [
        {
          "output_type": "execute_result",
          "data": {
            "text/plain": [
              "array(['gbp', 'unknown', 'eur', 'pln', 'usd', 'chf'], dtype=object)"
            ]
          },
          "metadata": {},
          "execution_count": 4
        }
      ]
    },
    {
      "cell_type": "markdown",
      "source": [
        "Los salarios se pagan en diferentes monedas, esto puede ser un problema al querer comparar los salarios, incluso hay salarios con moneda desconocida. veamos desde que países trabajan los diferentes profesionales."
      ],
      "metadata": {
        "id": "RTmRwSyweGmZ"
      }
    },
    {
      "cell_type": "code",
      "source": [
        "df['Country_code'].unique()"
      ],
      "metadata": {
        "colab": {
          "base_uri": "https://localhost:8080/"
        },
        "id": "4Zto3EFreiJE",
        "outputId": "8bb3adfb-b9c7-4c01-9ecc-c6801498cfaf"
      },
      "execution_count": 5,
      "outputs": [
        {
          "output_type": "execute_result",
          "data": {
            "text/plain": [
              "array(['GB', 'DE', 'PL', 'NL', 'CH', 'CZ', 'DK', 'EE', 'FI', 'ES', 'RS',\n",
              "       'UA', 'FR', 'LV', 'SK', 'SI', 'SE', 'LT', 'AT', 'BE', 'MU', 'LU',\n",
              "       'US', 'RO', 'IT', 'AE', 'PT', 'BG', nan, 'IL', 'AU', 'CA', 'IS',\n",
              "       'MX', 'IE', 'NO', 'CN', 'CY', 'MT', 'SL', 'SG', 'HU', 'JP', 'HK',\n",
              "       'CO', 'ZA', 'IN', 'TW', 'GR', 'CL', 'TR', 'BR', 'AM', 'MY', 'GI',\n",
              "       'SA', 'HR', 'AR'], dtype=object)"
            ]
          },
          "metadata": {},
          "execution_count": 5
        }
      ]
    },
    {
      "cell_type": "markdown",
      "source": [
        "Veamos que lenguajes de programación o habilidades son los que se solicitan en las empresas Polacas."
      ],
      "metadata": {
        "id": "8NSSJw8ifZvV"
      }
    },
    {
      "cell_type": "code",
      "source": [
        "df['Marker_icon'].unique()"
      ],
      "metadata": {
        "colab": {
          "base_uri": "https://localhost:8080/"
        },
        "id": "jjZQ3_wFfYYF",
        "outputId": "d6d9ed92-300b-42f1-b159-c5523b04c4d2"
      },
      "execution_count": 6,
      "outputs": [
        {
          "output_type": "execute_result",
          "data": {
            "text/plain": [
              "array(['javascript', 'java', 'python', 'mobile', 'go', 'devops', 'other',\n",
              "       'erp', 'pm', 'data', 'ux', 'net', 'admin', 'testing', 'ruby',\n",
              "       'game', 'support', 'html', 'php', 'architecture', 'scala',\n",
              "       'analytics', 'c', 'security'], dtype=object)"
            ]
          },
          "metadata": {},
          "execution_count": 6
        }
      ]
    },
    {
      "cell_type": "code",
      "source": [
        "df['skills_name_0'].unique()"
      ],
      "metadata": {
        "colab": {
          "base_uri": "https://localhost:8080/"
        },
        "id": "qfyN_YHzf4wB",
        "outputId": "28c6f0d9-6f7c-4124-df76-6f78d1d3437e"
      },
      "execution_count": 7,
      "outputs": [
        {
          "output_type": "execute_result",
          "data": {
            "text/plain": [
              "array(['React', 'Kotlin', 'Flask', ..., 'WebRTC', '#SEO',\n",
              "       'problem-solving skills'], dtype=object)"
            ]
          },
          "metadata": {},
          "execution_count": 7
        }
      ]
    },
    {
      "cell_type": "code",
      "source": [
        "df['skills_name_1'].unique()"
      ],
      "metadata": {
        "colab": {
          "base_uri": "https://localhost:8080/"
        },
        "id": "WfbgbNrUgAsZ",
        "outputId": "dc871c2a-3765-48d7-b94a-a65ad62c8cd3"
      },
      "execution_count": 8,
      "outputs": [
        {
          "output_type": "execute_result",
          "data": {
            "text/plain": [
              "array(['TypeScript', 'Backend', 'English', ..., '#HTML', 'TCP / IP',\n",
              "       'Camunda'], dtype=object)"
            ]
          },
          "metadata": {},
          "execution_count": 8
        }
      ]
    },
    {
      "cell_type": "markdown",
      "source": [
        "Exploremos como se distribuye los empleos de acuerdo al tipo (remoto, oficina, parcialmente remoto)..."
      ],
      "metadata": {
        "id": "v_v8bMnUg2xa"
      }
    },
    {
      "cell_type": "code",
      "source": [
        "pie1 = df.groupby('Workplace_type').count().Title\n",
        "fig, ax = plt.subplots(figsize=(6,6))\n",
        "wedges, texts, autotexts = ax.pie(pie1,autopct='%1.1f%%')\n",
        "ax.legend(labels=pie1.index,\n",
        "          loc=\"center left\",\n",
        "          bbox_to_anchor=(1, 0, 0.5, 1))\n",
        "ax.axis('equal')\n",
        "ax.set_title(\"Tipos de Trabajo\")\n",
        "plt.show()"
      ],
      "metadata": {
        "colab": {
          "base_uri": "https://localhost:8080/",
          "height": 373
        },
        "id": "ziCRU70GgqvD",
        "outputId": "23c02604-17e1-4111-f847-901b39d44d4c"
      },
      "execution_count": 9,
      "outputs": [
        {
          "output_type": "display_data",
          "data": {
            "text/plain": [
              "<Figure size 432x432 with 1 Axes>"
            ],
            "image/png": "[encoded data removed]"
          },
          "metadata": {}
        }
      ]
    },
    {
      "cell_type": "markdown",
      "source": [
        "Vemos que el 64.7% de los profesionales en IT trabajan de manera remota y solo un 5% en oficina. Me pregunto que puestos o habilidades son los que se exportan a Polonia.\n",
        "\n"
      ],
      "metadata": {
        "id": "l5oBJh6uhMMV"
      }
    },
    {
      "cell_type": "code",
      "source": [
        "# creamos nuestros filtros para usarlos en nuestra representación gráfica\n",
        "df_bool = df['Remote'] == True\n",
        "bar1 = df[df_bool].groupby('Marker_icon').count()['Title']\n",
        "bar2 = df[~df_bool].groupby('Marker_icon').count()['Title']\n",
        "\n",
        "# Representación gráfica\n",
        "fig, ax = plt.subplots(figsize=(14,5))\n",
        "ax.bar(bar1.index,bar1.values,color='red',label='Remoto')\n",
        "ax.bar(bar2.index,bar2.values,color='green',label='No Remoto')\n",
        "fig.autofmt_xdate(rotation=45)\n",
        "ax.legend()\n",
        "plt.show()"
      ],
      "metadata": {
        "colab": {
          "base_uri": "https://localhost:8080/",
          "height": 333
        },
        "id": "G8ZPTeoLhrIs",
        "outputId": "c652b734-3f39-4acf-bfa9-83d6c0c51358"
      },
      "execution_count": 10,
      "outputs": [
        {
          "output_type": "display_data",
          "data": {
            "text/plain": [
              "<Figure size 1008x360 with 1 Axes>"
            ],
            "image/png": "[encoded data removed]"
          },
          "metadata": {
            "needs_background": "light"
          }
        }
      ]
    },
    {
      "cell_type": "markdown",
      "source": [
        "Interesante! podemos ver  que los lenguajes de Java, Javascript, lenguajes para mobile, tecnologías .net, python , deovps y testing . Son los que más se solicitan de manera remota.\n",
        "\n",
        "Es hora de analizar las variables cuantitativas."
      ],
      "metadata": {
        "id": "mu-LwBYPiHxv"
      }
    },
    {
      "cell_type": "code",
      "source": [
        "df.describe()"
      ],
      "metadata": {
        "colab": {
          "base_uri": "https://localhost:8080/",
          "height": 364
        },
        "id": "QBczEDSjLh6d",
        "outputId": "084f8801-a8dd-47d0-f8e4-c0840ea76219"
      },
      "execution_count": 14,
      "outputs": [
        {
          "output_type": "execute_result",
          "data": {
            "text/plain": [
              "       salary_from_permanent  salary_to_permanent  salary_from_b2b  \\\n",
              "count           37787.000000         37787.000000     37787.000000   \n",
              "mean             4436.723554          6361.915644      8533.135647   \n",
              "std              8339.678257         11318.558306      9433.971039   \n",
              "min                 0.000000             0.000000         0.000000   \n",
              "25%                 0.000000             0.000000         0.000000   \n",
              "50%                 0.000000             0.000000      6500.000000   \n",
              "75%              8800.000000         13500.000000     16000.000000   \n",
              "max            413114.609646        495737.531575    113246.500000   \n",
              "\n",
              "       salary_to_b2b  salary_from_mandate  salary_to_mandate  \\\n",
              "count   37787.000000         37787.000000       37787.000000   \n",
              "mean    11878.328369           113.809577         162.435392   \n",
              "std     12631.154099          1192.990106        1700.149479   \n",
              "min         0.000000             0.000000           0.000000   \n",
              "25%         0.000000             0.000000           0.000000   \n",
              "50%     10000.000000             0.000000           0.000000   \n",
              "75%     22800.000000             0.000000           0.000000   \n",
              "max    137341.500000         39000.000000       56808.000000   \n",
              "\n",
              "       salary_from_other  salary_to_other  currency_exchange_rate  \\\n",
              "count            37787.0          37787.0            37787.000000   \n",
              "mean                 0.0              0.0                0.011464   \n",
              "std                  0.0              0.0                0.048520   \n",
              "min                  0.0              0.0                0.000000   \n",
              "25%                  0.0              0.0                0.000000   \n",
              "50%                  0.0              0.0                0.000000   \n",
              "75%                  0.0              0.0                0.000000   \n",
              "max                  0.0              0.0                0.234999   \n",
              "\n",
              "       skills_value_0  skills_value_1  skills_value_2  \n",
              "count    37787.000000    37787.000000    37787.000000  \n",
              "mean         3.018340        3.103581        3.098447  \n",
              "std          0.942202        1.136302        1.432064  \n",
              "min          1.000000        0.000000        0.000000  \n",
              "25%          3.000000        3.000000        3.000000  \n",
              "50%          3.000000        3.000000        3.000000  \n",
              "75%          4.000000        4.000000        4.000000  \n",
              "max          5.000000        5.000000        5.000000  "
            ],
            "text/html": [
              "\n",
              "  <div id=\"df-d334d867-9bbb-472e-8550-f907043fb351\">\n",
              "    <div class=\"colab-df-container\">\n",
              "      <div>\n",
              "<style scoped>\n",
              "    .dataframe tbody tr th:only-of-type {\n",
              "        vertical-align: middle;\n",
              "    }\n",
              "\n",
              "    .dataframe tbody tr th {\n",
              "        vertical-align: top;\n",
              "    }\n",
              "\n",
              "    .dataframe thead th {\n",
              "        text-align: right;\n",
              "    }\n",
              "</style>\n",
              "<table border=\"1\" class=\"dataframe\">\n",
              "  <thead>\n",
              "    <tr style=\"text-align: right;\">\n",
              "      <th></th>\n",
              "      <th>salary_from_permanent</th>\n",
              "      <th>salary_to_permanent</th>\n",
              "      <th>salary_from_b2b</th>\n",
              "      <th>salary_to_b2b</th>\n",
              "      <th>salary_from_mandate</th>\n",
              "      <th>salary_to_mandate</th>\n",
              "      <th>salary_from_other</th>\n",
              "      <th>salary_to_other</th>\n",
              "      <th>currency_exchange_rate</th>\n",
              "      <th>skills_value_0</th>\n",
              "      <th>skills_value_1</th>\n",
              "      <th>skills_value_2</th>\n",
              "    </tr>\n",
              "  </thead>\n",
              "  <tbody>\n",
              "    <tr>\n",
              "      <th>count</th>\n",
              "      <td>37787.000000</td>\n",
              "      <td>37787.000000</td>\n",
              "      <td>37787.000000</td>\n",
              "      <td>37787.000000</td>\n",
              "      <td>37787.000000</td>\n",
              "      <td>37787.000000</td>\n",
              "      <td>37787.0</td>\n",
              "      <td>37787.0</td>\n",
              "      <td>37787.000000</td>\n",
              "      <td>37787.000000</td>\n",
              "      <td>37787.000000</td>\n",
              "      <td>37787.000000</td>\n",
              "    </tr>\n",
              "    <tr>\n",
              "      <th>mean</th>\n",
              "      <td>4436.723554</td>\n",
              "      <td>6361.915644</td>\n",
              "      <td>8533.135647</td>\n",
              "      <td>11878.328369</td>\n",
              "      <td>113.809577</td>\n",
              "      <td>162.435392</td>\n",
              "      <td>0.0</td>\n",
              "      <td>0.0</td>\n",
              "      <td>0.011464</td>\n",
              "      <td>3.018340</td>\n",
              "      <td>3.103581</td>\n",
              "      <td>3.098447</td>\n",
              "    </tr>\n",
              "    <tr>\n",
              "      <th>std</th>\n",
              "      <td>8339.678257</td>\n",
              "      <td>11318.558306</td>\n",
              "      <td>9433.971039</td>\n",
              "      <td>12631.154099</td>\n",
              "      <td>1192.990106</td>\n",
              "      <td>1700.149479</td>\n",
              "      <td>0.0</td>\n",
              "      <td>0.0</td>\n",
              "      <td>0.048520</td>\n",
              "      <td>0.942202</td>\n",
              "      <td>1.136302</td>\n",
              "      <td>1.432064</td>\n",
              "    </tr>\n",
              "    <tr>\n",
              "      <th>min</th>\n",
              "      <td>0.000000</td>\n",
              "      <td>0.000000</td>\n",
              "      <td>0.000000</td>\n",
              "      <td>0.000000</td>\n",
              "      <td>0.000000</td>\n",
              "      <td>0.000000</td>\n",
              "      <td>0.0</td>\n",
              "      <td>0.0</td>\n",
              "      <td>0.000000</td>\n",
              "      <td>1.000000</td>\n",
              "      <td>0.000000</td>\n",
              "      <td>0.000000</td>\n",
              "    </tr>\n",
              "    <tr>\n",
              "      <th>25%</th>\n",
              "      <td>0.000000</td>\n",
              "      <td>0.000000</td>\n",
              "      <td>0.000000</td>\n",
              "      <td>0.000000</td>\n",
              "      <td>0.000000</td>\n",
              "      <td>0.000000</td>\n",
              "      <td>0.0</td>\n",
              "      <td>0.0</td>\n",
              "      <td>0.000000</td>\n",
              "      <td>3.000000</td>\n",
              "      <td>3.000000</td>\n",
              "      <td>3.000000</td>\n",
              "    </tr>\n",
              "    <tr>\n",
              "      <th>50%</th>\n",
              "      <td>0.000000</td>\n",
              "      <td>0.000000</td>\n",
              "      <td>6500.000000</td>\n",
              "      <td>10000.000000</td>\n",
              "      <td>0.000000</td>\n",
              "      <td>0.000000</td>\n",
              "      <td>0.0</td>\n",
              "      <td>0.0</td>\n",
              "      <td>0.000000</td>\n",
              "      <td>3.000000</td>\n",
              "      <td>3.000000</td>\n",
              "      <td>3.000000</td>\n",
              "    </tr>\n",
              "    <tr>\n",
              "      <th>75%</th>\n",
              "      <td>8800.000000</td>\n",
              "      <td>13500.000000</td>\n",
              "      <td>16000.000000</td>\n",
              "      <td>22800.000000</td>\n",
              "      <td>0.000000</td>\n",
              "      <td>0.000000</td>\n",
              "      <td>0.0</td>\n",
              "      <td>0.0</td>\n",
              "      <td>0.000000</td>\n",
              "      <td>4.000000</td>\n",
              "      <td>4.000000</td>\n",
              "      <td>4.000000</td>\n",
              "    </tr>\n",
              "    <tr>\n",
              "      <th>max</th>\n",
              "      <td>413114.609646</td>\n",
              "      <td>495737.531575</td>\n",
              "      <td>113246.500000</td>\n",
              "      <td>137341.500000</td>\n",
              "      <td>39000.000000</td>\n",
              "      <td>56808.000000</td>\n",
              "      <td>0.0</td>\n",
              "      <td>0.0</td>\n",
              "      <td>0.234999</td>\n",
              "      <td>5.000000</td>\n",
              "      <td>5.000000</td>\n",
              "      <td>5.000000</td>\n",
              "    </tr>\n",
              "  </tbody>\n",
              "</table>\n",
              "</div>\n",
              "      <button class=\"colab-df-convert\" onclick=\"convertToInteractive('df-d334d867-9bbb-472e-8550-f907043fb351')\"\n",
              "              title=\"Convert this dataframe to an interactive table.\"\n",
              "              style=\"display:none;\">\n",
              "        \n",
              "  <svg xmlns=\"http://www.w3.org/2000/svg\" height=\"24px\"viewBox=\"0 0 24 24\"\n",
              "       width=\"24px\">\n",
              "    <path d=\"M0 0h24v24H0V0z\" fill=\"none\"/>\n",
              "    <path d=\"M18.56 5.44l.94 2.06.94-2.06 2.06-.94-2.06-.94-.94-2.06-.94 2.06-2.06.94zm-11 1L8.5 8.5l.94-2.06 2.06-.94-2.06-.94L8.5 2.5l-.94 2.06-2.06.94zm10 10l.94 2.06.94-2.06 2.06-.94-2.06-.94-.94-2.06-.94 2.06-2.06.94z\"/><path d=\"M17.41 7.96l-1.37-1.37c-.4-.4-.92-.59-1.43-.59-.52 0-1.04.2-1.43.59L10.3 9.45l-7.72 7.72c-.78.78-.78 2.05 0 2.83L4 21.41c.39.39.9.59 1.41.59.51 0 1.02-.2 1.41-.59l7.78-7.78 2.81-2.81c.8-.78.8-2.07 0-2.86zM5.41 20L4 18.59l7.72-7.72 1.47 1.35L5.41 20z\"/>\n",
              "  </svg>\n",
              "      </button>\n",
              "      \n",
              "  <style>\n",
              "    .colab-df-container {\n",
              "      display:flex;\n",
              "      flex-wrap:wrap;\n",
              "      gap: 12px;\n",
              "    }\n",
              "\n",
              "    .colab-df-convert {\n",
              "      background-color: #E8F0FE;\n",
              "      border: none;\n",
              "      border-radius: 50%;\n",
              "      cursor: pointer;\n",
              "      display: none;\n",
              "      fill: #1967D2;\n",
              "      height: 32px;\n",
              "      padding: 0 0 0 0;\n",
              "      width: 32px;\n",
              "    }\n",
              "\n",
              "    .colab-df-convert:hover {\n",
              "      background-color: #E2EBFA;\n",
              "      box-shadow: 0px 1px 2px rgba(60, 64, 67, 0.3), 0px 1px 3px 1px rgba(60, 64, 67, 0.15);\n",
              "      fill: #174EA6;\n",
              "    }\n",
              "\n",
              "    [theme=dark] .colab-df-convert {\n",
              "      background-color: #3B4455;\n",
              "      fill: #D2E3FC;\n",
              "    }\n",
              "\n",
              "    [theme=dark] .colab-df-convert:hover {\n",
              "      background-color: #434B5C;\n",
              "      box-shadow: 0px 1px 3px 1px rgba(0, 0, 0, 0.15);\n",
              "      filter: drop-shadow(0px 1px 2px rgba(0, 0, 0, 0.3));\n",
              "      fill: #FFFFFF;\n",
              "    }\n",
              "  </style>\n",
              "\n",
              "      <script>\n",
              "        const buttonEl =\n",
              "          document.querySelector('#df-d334d867-9bbb-472e-8550-f907043fb351 button.colab-df-convert');\n",
              "        buttonEl.style.display =\n",
              "          google.colab.kernel.accessAllowed ? 'block' : 'none';\n",
              "\n",
              "        async function convertToInteractive(key) {\n",
              "          const element = document.querySelector('#df-d334d867-9bbb-472e-8550-f907043fb351');\n",
              "          const dataTable =\n",
              "            await google.colab.kernel.invokeFunction('convertToInteractive',\n",
              "                                                     [key], {});\n",
              "          if (!dataTable) return;\n",
              "\n",
              "          const docLinkHtml = 'Like what you see? Visit the ' +\n",
              "            '<a target=\"_blank\" href=https://colab.research.google.com/notebooks/data_table.ipynb>data table notebook</a>'\n",
              "            + ' to learn more about interactive tables.';\n",
              "          element.innerHTML = '';\n",
              "          dataTable['output_type'] = 'display_data';\n",
              "          await google.colab.output.renderOutput(dataTable, element);\n",
              "          const docLink = document.createElement('div');\n",
              "          docLink.innerHTML = docLinkHtml;\n",
              "          element.appendChild(docLink);\n",
              "        }\n",
              "      </script>\n",
              "    </div>\n",
              "  </div>\n",
              "  "
            ]
          },
          "metadata": {},
          "execution_count": 14
        }
      ]
    },
    {
      "cell_type": "markdown",
      "source": [
        "Podemos apreciar que los salarios minimos son de 0.000, el 25% de los titulos tienen 0, incluso el 50% de la data cuenta con salario de 0.000, eso nos hace alertar que hay titulos sin salario especificado. Lo que deberiamos hacer es filtrar la tabla de modo que solo nos quedemos con los salarios especificados."
      ],
      "metadata": {
        "id": "rwWY7-msQNpP"
      }
    },
    {
      "cell_type": "code",
      "source": [
        "# filtramos todos los salarios mayores a cero\n",
        "df_filter = df[(df['salary_from_permanent'] != 0)]\n",
        "df_filter.shape"
      ],
      "metadata": {
        "colab": {
          "base_uri": "https://localhost:8080/"
        },
        "id": "Fz-avgrDMcer",
        "outputId": "7201028d-4266-4e09-f495-75d0582383d8"
      },
      "execution_count": 15,
      "outputs": [
        {
          "output_type": "execute_result",
          "data": {
            "text/plain": [
              "(13031, 35)"
            ]
          },
          "metadata": {},
          "execution_count": 15
        }
      ]
    },
    {
      "cell_type": "markdown",
      "source": [
        "Luego de filtar la tabla, se redujo el número de filas de 37 787 a 13 031, mas de la mitad!\n",
        "\n",
        "Recordemos también que los salarios estaban en diferente monedas, pasemos todo a USD. Y eliminemos aquellas que el pago del salario es de moneda desconocida.\n",
        " \n",
        "- 1 GBP = 1.22 USD\n",
        "- 1 EUR = 1.08 USD\n",
        "- 1 PLN = 0.23 USD\n",
        "- 1 CHF = 1.08 USD"
      ],
      "metadata": {
        "id": "6QT9O7DJuRgy"
      }
    },
    {
      "cell_type": "code",
      "source": [
        "df_filter = df_filter[(df_filter['salary_currency_permanent'] != 'unknown')]\n",
        "df_copy = df_filter.copy()"
      ],
      "metadata": {
        "id": "0L4n-G_muahI"
      },
      "execution_count": 17,
      "outputs": []
    },
    {
      "cell_type": "markdown",
      "source": [
        "Ahora hacemos una pequeña transformación de la columna salarios, pasando todo a USD."
      ],
      "metadata": {
        "id": "48jU_LndpLN6"
      }
    },
    {
      "cell_type": "code",
      "source": [
        "# 1 gbp = 1.22 usd\n",
        "df_copy.loc[df_copy['salary_currency_permanent'] == 'gbp', 'salary_from_permanent'] = df_copy.loc[df_copy['salary_currency_permanent'] == 'gbp','salary_from_permanent']*1.22\n",
        "# 1 eur = 1.08 usd\n",
        "df_copy.loc[df_copy['salary_currency_permanent'] == 'eur', 'salary_from_permanent'] = df_copy.loc[df_copy['salary_currency_permanent'] == 'eur','salary_from_permanent']*1.08\n",
        "# 1 pln = 0.23 usd\n",
        "df_copy.loc[df_copy['salary_currency_permanent'] == 'pln', 'salary_from_permanent'] = df_copy.loc[df_copy['salary_currency_permanent'] == 'pln','salary_from_permanent']*0.23\n",
        "# 1 chf = 1.08 usd\n",
        "df_copy.loc[df_copy['salary_currency_permanent'] == 'chf', 'salary_from_permanent'] = df_copy.loc[df_copy['salary_currency_permanent'] == 'chf','salary_from_permanent']*1.08"
      ],
      "metadata": {
        "id": "mJB9W8nrv9Gu"
      },
      "execution_count": 18,
      "outputs": []
    },
    {
      "cell_type": "markdown",
      "source": [
        "\n",
        "\n",
        "Dentro de las variables categórias, pudimos observar una columna \"Experiencie_level\" que divide a los profesionales en tres categorías: Junior, Mid y Senior. \n",
        "Analizemos los salarios con respecto a las tres categorías (Junior, Mid , Senior)"
      ],
      "metadata": {
        "id": "ssgtQvVrRAHb"
      }
    },
    {
      "cell_type": "code",
      "source": [
        "# dividimos el dataset en tres tipos\n",
        "junior = df_copy[df_copy['Experience_level'] == \"junior\"]\n",
        "mid = df_copy[df_copy['Experience_level'] == \"mid\"]\n",
        "senior = df_copy[df_copy['Experience_level'] == \"senior\"]\n",
        "\n",
        "# creamos un nuevo dataframe\n",
        "df_new = pd.DataFrame()\n",
        "df_new['junior'] = junior['salary_from_permanent'].describe()\n",
        "df_new['mid'] = mid['salary_from_permanent'].describe()\n",
        "df_new['senior'] = senior['salary_from_permanent'].describe()\n",
        "print(df_new)\n",
        "print()\n",
        "\n",
        "# Representemos de manera gráfica\n",
        "sns.set(rc={\"figure.figsize\":(20, 6)})\n",
        "sns.boxplot(data=df_copy, x=\"salary_from_permanent\", y=\"Experience_level\")\n",
        "plt.show()"
      ],
      "metadata": {
        "colab": {
          "base_uri": "https://localhost:8080/",
          "height": 579
        },
        "id": "fROj23irK4Rp",
        "outputId": "6d37c6d6-f90e-47b8-bb49-6ee7b0a69132"
      },
      "execution_count": 19,
      "outputs": [
        {
          "output_type": "stream",
          "name": "stdout",
          "text": [
            "             junior            mid         senior\n",
            "count   1782.000000    6692.000000    4557.000000\n",
            "mean    1498.954658    3515.854998    6365.749189\n",
            "std     1979.652491    9391.342587   13390.233123\n",
            "min      332.350000     690.000000    1150.000000\n",
            "25%     1035.000000    1909.000000    3116.500000\n",
            "50%     1150.000000    2415.000000    3680.000000\n",
            "75%     1610.000000    3220.000000    4600.000000\n",
            "max    46724.688000  405259.200000  503999.823768\n",
            "\n"
          ]
        },
        {
          "output_type": "display_data",
          "data": {
            "text/plain": [
              "<Figure size 1440x432 with 1 Axes>"
            ],
            "image/png": "[encoded data removed]"
          },
          "metadata": {}
        }
      ]
    },
    {
      "cell_type": "markdown",
      "source": [
        "Podemos apreciar, en la tabla, que el sueldo minimo para un Junior es de \\$ 332, un mid \\$ 690 y un senior \\$ 1150.\n",
        "Asimismo, el 50% de los puestos en IT bordean para un Junior en \\$ 1150, para un mid \\$ 2415 y para un senior \\$ 3680.\n",
        "\n",
        "Una hipotesis para los sueldos minimos que se presentaron es que algunos profesionales provienen de paises pobres como la india, o quizás se esté reclutando a Ukranianos con bajo sueldo, incluso debí segmentar en base a las tecnologías, y esos sueldos representen a un UX designer (por ejemplo).\n",
        "\n",
        "Por otro lado, en la caja de bigotes, vemos casos excepcionales (outliers) de profesionales senior que superan lo \\$ 500 000! y casos mid que superar los \\$ 300 000!\n",
        "\n",
        "Sin embargo, no podemos apreciar bien la caja de bigotes, y nos hace pensar a simple vista que la mayoria gana similiar independiente si sea junior, mid o level. Limitemos la gráfica para visualizar mejor..."
      ],
      "metadata": {
        "id": "rzbASEZdqlLI"
      }
    },
    {
      "cell_type": "code",
      "source": [
        "# Representemos de manera gráfica\n",
        "sns.set(rc={\"figure.figsize\":(20, 6)})\n",
        "sns.boxplot(data=df_copy, x=\"salary_from_permanent\", y=\"Experience_level\")\n",
        "plt.xlim(1000,60000)\n",
        "plt.show()"
      ],
      "metadata": {
        "colab": {
          "base_uri": "https://localhost:8080/",
          "height": 394
        },
        "id": "bsUrE5-Rp0vQ",
        "outputId": "d939ac90-1a28-428c-e44f-392b27d14267"
      },
      "execution_count": 20,
      "outputs": [
        {
          "output_type": "display_data",
          "data": {
            "text/plain": [
              "<Figure size 1440x432 with 1 Axes>"
            ],
            "image/png": "[encoded data removed]"
          },
          "metadata": {}
        }
      ]
    },
    {
      "cell_type": "markdown",
      "source": [
        "Bueno, ahora podemos ver la direfencia entre estos tres niveles.\n",
        "\n",
        "Me surge la curiosidad saber de donde provienen los salarios más altos, primero por país y después por tecnologías o profesión."
      ],
      "metadata": {
        "id": "wdgytXwDn4Qb"
      }
    },
    {
      "cell_type": "code",
      "source": [
        "paises = df['Country_code'].unique()\n",
        "print(f'paises: {len(paises)}')"
      ],
      "metadata": {
        "colab": {
          "base_uri": "https://localhost:8080/"
        },
        "id": "JYkiSc10oN4y",
        "outputId": "7717019c-3ed1-4c13-f566-f85090260b9f"
      },
      "execution_count": 25,
      "outputs": [
        {
          "output_type": "stream",
          "name": "stdout",
          "text": [
            "paises: 58\n"
          ]
        }
      ]
    },
    {
      "cell_type": "markdown",
      "source": [
        "Pero como podemos ver, hay 58 países, lo que no es aconsejable hacer un gráfico de torta.\n",
        "\n",
        "vea: https://www.ine.es/explica/docs/pasos_tipos_graficos.pdf\n",
        "\n",
        "Intentemos con un grafico de barras, y pongamos como limite \\$ 35 000."
      ],
      "metadata": {
        "id": "-A5kWGKjoRXF"
      }
    },
    {
      "cell_type": "code",
      "source": [
        "sns.barplot(x=df_copy['Country_code'], y=df_copy['salary_from_permanent'])\n",
        "# coloquemos a criterio propio un  limite\n",
        "plt.axhline(35000, color = \"red\", linewidth = 1, linestyle = \"dashed\");\n",
        "plt.show()"
      ],
      "metadata": {
        "colab": {
          "base_uri": "https://localhost:8080/",
          "height": 394
        },
        "id": "rFUAQhFqtqlu",
        "outputId": "277ac372-472b-4f14-cd16-6f89a5c367cf"
      },
      "execution_count": 45,
      "outputs": [
        {
          "output_type": "display_data",
          "data": {
            "text/plain": [
              "<Figure size 1440x432 with 1 Axes>"
            ],
            "image/png": "[encoded data removed]"
          },
          "metadata": {}
        }
      ]
    },
    {
      "cell_type": "markdown",
      "source": [
        "Asombroso!... Los profesionales con sueldos medios más altos provienen de GB (Reino Unido), AU (Australia), CH (Suiza), ZA (Sudádrica). Y existen casos excepcionales (outliers) en paises como AE (Emiratos Árabes Unidos), JP (Japón), DK (Dinamarca) y IL (Israel).\n",
        "\n",
        "Nota: Las barras de error (lineas negras), representan la variabilidad de los datos.\n",
        "vea: https://es.wikipedia.org/wiki/Barra_de_error"
      ],
      "metadata": {
        "id": "bEbduoOjuPS7"
      }
    },
    {
      "cell_type": "code",
      "source": [
        "plt.scatter(x=df_copy['Marker_icon'], y=df_copy['salary_from_permanent'])\n",
        "plt.show()"
      ],
      "metadata": {
        "colab": {
          "base_uri": "https://localhost:8080/",
          "height": 377
        },
        "id": "o799QLHBAiJW",
        "outputId": "7fe348a6-a8f2-442a-b636-297a94b817d8"
      },
      "execution_count": 46,
      "outputs": [
        {
          "output_type": "display_data",
          "data": {
            "text/plain": [
              "<Figure size 1440x432 with 1 Axes>"
            ],
            "image/png": "[encoded data removed]"
          },
          "metadata": {}
        }
      ]
    },
    {
      "cell_type": "markdown",
      "source": [
        "De igual manera, hacemos un scatter para visualizar ya no la media, si no en si los casos de sueldos excepcionales. \n",
        "Donde vemos que Python, professionales en Data, PHP, teconologias .NET son los lenguajes que usan los de mayor sueldo.\n",
        "Incluso vemos una opción (otros) que es uno de los más altos, veamos de que titulo se trata.\n"
      ],
      "metadata": {
        "id": "80-79sdIyNTE"
      }
    },
    {
      "cell_type": "code",
      "source": [
        "df_copy['salary_from_permanent'].max()"
      ],
      "metadata": {
        "colab": {
          "base_uri": "https://localhost:8080/"
        },
        "id": "DO8k6bpXwuq1",
        "outputId": "09e2f6ec-65a5-4265-e0f6-47c3d3a88f94"
      },
      "execution_count": 28,
      "outputs": [
        {
          "output_type": "execute_result",
          "data": {
            "text/plain": [
              "503999.8237678435"
            ]
          },
          "metadata": {},
          "execution_count": 28
        }
      ]
    },
    {
      "cell_type": "markdown",
      "source": [
        "Capturamos el valor máximo y luego lo localizamos como filtro en la tabla."
      ],
      "metadata": {
        "id": "t70bH79LBY3X"
      }
    },
    {
      "cell_type": "code",
      "source": [
        "df_copy[df_copy['salary_from_permanent'] == 503999.8237678435]"
      ],
      "metadata": {
        "colab": {
          "base_uri": "https://localhost:8080/",
          "height": 191
        },
        "id": "ZGtq1Yzyw44W",
        "outputId": "270e741c-caba-41da-dd3e-3d6b17741226"
      },
      "execution_count": 31,
      "outputs": [
        {
          "output_type": "execute_result",
          "data": {
            "text/plain": [
              "                     Title    City Country_code Marker_icon Workplace_type  \\\n",
              "29545  Development Manager  Gdańsk           PL       other         remote   \n",
              "\n",
              "      Experience_level              Published_at  Remote_interview  Remote  \\\n",
              "29545           senior  2022-05-13T12:21:00.000Z             False    True   \n",
              "\n",
              "      Open_to_hire_Ukrainians  ... salary_from_other salary_to_other  \\\n",
              "29545                   False  ...                 0               0   \n",
              "\n",
              "       salary_currency_other  currency_exchange_rate  skills_name_0  \\\n",
              "29545                unknown                0.181548         Python   \n",
              "\n",
              "      skills_value_0  skills_name_1  skills_value_1  skills_name_2  \\\n",
              "29545              4     TypeScript               4           Ruby   \n",
              "\n",
              "      skills_value_2  \n",
              "29545              4  \n",
              "\n",
              "[1 rows x 35 columns]"
            ],
            "text/html": [
              "\n",
              "  <div id=\"df-ad1a2c31-6a78-4a92-82c5-ddaa588e2c7e\">\n",
              "    <div class=\"colab-df-container\">\n",
              "      <div>\n",
              "<style scoped>\n",
              "    .dataframe tbody tr th:only-of-type {\n",
              "        vertical-align: middle;\n",
              "    }\n",
              "\n",
              "    .dataframe tbody tr th {\n",
              "        vertical-align: top;\n",
              "    }\n",
              "\n",
              "    .dataframe thead th {\n",
              "        text-align: right;\n",
              "    }\n",
              "</style>\n",
              "<table border=\"1\" class=\"dataframe\">\n",
              "  <thead>\n",
              "    <tr style=\"text-align: right;\">\n",
              "      <th></th>\n",
              "      <th>Title</th>\n",
              "      <th>City</th>\n",
              "      <th>Country_code</th>\n",
              "      <th>Marker_icon</th>\n",
              "      <th>Workplace_type</th>\n",
              "      <th>Experience_level</th>\n",
              "      <th>Published_at</th>\n",
              "      <th>Remote_interview</th>\n",
              "      <th>Remote</th>\n",
              "      <th>Open_to_hire_Ukrainians</th>\n",
              "      <th>...</th>\n",
              "      <th>salary_from_other</th>\n",
              "      <th>salary_to_other</th>\n",
              "      <th>salary_currency_other</th>\n",
              "      <th>currency_exchange_rate</th>\n",
              "      <th>skills_name_0</th>\n",
              "      <th>skills_value_0</th>\n",
              "      <th>skills_name_1</th>\n",
              "      <th>skills_value_1</th>\n",
              "      <th>skills_name_2</th>\n",
              "      <th>skills_value_2</th>\n",
              "    </tr>\n",
              "  </thead>\n",
              "  <tbody>\n",
              "    <tr>\n",
              "      <th>29545</th>\n",
              "      <td>Development Manager</td>\n",
              "      <td>Gdańsk</td>\n",
              "      <td>PL</td>\n",
              "      <td>other</td>\n",
              "      <td>remote</td>\n",
              "      <td>senior</td>\n",
              "      <td>2022-05-13T12:21:00.000Z</td>\n",
              "      <td>False</td>\n",
              "      <td>True</td>\n",
              "      <td>False</td>\n",
              "      <td>...</td>\n",
              "      <td>0</td>\n",
              "      <td>0</td>\n",
              "      <td>unknown</td>\n",
              "      <td>0.181548</td>\n",
              "      <td>Python</td>\n",
              "      <td>4</td>\n",
              "      <td>TypeScript</td>\n",
              "      <td>4</td>\n",
              "      <td>Ruby</td>\n",
              "      <td>4</td>\n",
              "    </tr>\n",
              "  </tbody>\n",
              "</table>\n",
              "<p>1 rows × 35 columns</p>\n",
              "</div>\n",
              "      <button class=\"colab-df-convert\" onclick=\"convertToInteractive('df-ad1a2c31-6a78-4a92-82c5-ddaa588e2c7e')\"\n",
              "              title=\"Convert this dataframe to an interactive table.\"\n",
              "              style=\"display:none;\">\n",
              "        \n",
              "  <svg xmlns=\"http://www.w3.org/2000/svg\" height=\"24px\"viewBox=\"0 0 24 24\"\n",
              "       width=\"24px\">\n",
              "    <path d=\"M0 0h24v24H0V0z\" fill=\"none\"/>\n",
              "    <path d=\"M18.56 5.44l.94 2.06.94-2.06 2.06-.94-2.06-.94-.94-2.06-.94 2.06-2.06.94zm-11 1L8.5 8.5l.94-2.06 2.06-.94-2.06-.94L8.5 2.5l-.94 2.06-2.06.94zm10 10l.94 2.06.94-2.06 2.06-.94-2.06-.94-.94-2.06-.94 2.06-2.06.94z\"/><path d=\"M17.41 7.96l-1.37-1.37c-.4-.4-.92-.59-1.43-.59-.52 0-1.04.2-1.43.59L10.3 9.45l-7.72 7.72c-.78.78-.78 2.05 0 2.83L4 21.41c.39.39.9.59 1.41.59.51 0 1.02-.2 1.41-.59l7.78-7.78 2.81-2.81c.8-.78.8-2.07 0-2.86zM5.41 20L4 18.59l7.72-7.72 1.47 1.35L5.41 20z\"/>\n",
              "  </svg>\n",
              "      </button>\n",
              "      \n",
              "  <style>\n",
              "    .colab-df-container {\n",
              "      display:flex;\n",
              "      flex-wrap:wrap;\n",
              "      gap: 12px;\n",
              "    }\n",
              "\n",
              "    .colab-df-convert {\n",
              "      background-color: #E8F0FE;\n",
              "      border: none;\n",
              "      border-radius: 50%;\n",
              "      cursor: pointer;\n",
              "      display: none;\n",
              "      fill: #1967D2;\n",
              "      height: 32px;\n",
              "      padding: 0 0 0 0;\n",
              "      width: 32px;\n",
              "    }\n",
              "\n",
              "    .colab-df-convert:hover {\n",
              "      background-color: #E2EBFA;\n",
              "      box-shadow: 0px 1px 2px rgba(60, 64, 67, 0.3), 0px 1px 3px 1px rgba(60, 64, 67, 0.15);\n",
              "      fill: #174EA6;\n",
              "    }\n",
              "\n",
              "    [theme=dark] .colab-df-convert {\n",
              "      background-color: #3B4455;\n",
              "      fill: #D2E3FC;\n",
              "    }\n",
              "\n",
              "    [theme=dark] .colab-df-convert:hover {\n",
              "      background-color: #434B5C;\n",
              "      box-shadow: 0px 1px 3px 1px rgba(0, 0, 0, 0.15);\n",
              "      filter: drop-shadow(0px 1px 2px rgba(0, 0, 0, 0.3));\n",
              "      fill: #FFFFFF;\n",
              "    }\n",
              "  </style>\n",
              "\n",
              "      <script>\n",
              "        const buttonEl =\n",
              "          document.querySelector('#df-ad1a2c31-6a78-4a92-82c5-ddaa588e2c7e button.colab-df-convert');\n",
              "        buttonEl.style.display =\n",
              "          google.colab.kernel.accessAllowed ? 'block' : 'none';\n",
              "\n",
              "        async function convertToInteractive(key) {\n",
              "          const element = document.querySelector('#df-ad1a2c31-6a78-4a92-82c5-ddaa588e2c7e');\n",
              "          const dataTable =\n",
              "            await google.colab.kernel.invokeFunction('convertToInteractive',\n",
              "                                                     [key], {});\n",
              "          if (!dataTable) return;\n",
              "\n",
              "          const docLinkHtml = 'Like what you see? Visit the ' +\n",
              "            '<a target=\"_blank\" href=https://colab.research.google.com/notebooks/data_table.ipynb>data table notebook</a>'\n",
              "            + ' to learn more about interactive tables.';\n",
              "          element.innerHTML = '';\n",
              "          dataTable['output_type'] = 'display_data';\n",
              "          await google.colab.output.renderOutput(dataTable, element);\n",
              "          const docLink = document.createElement('div');\n",
              "          docLink.innerHTML = docLinkHtml;\n",
              "          element.appendChild(docLink);\n",
              "        }\n",
              "      </script>\n",
              "    </div>\n",
              "  </div>\n",
              "  "
            ]
          },
          "metadata": {},
          "execution_count": 31
        }
      ]
    },
    {
      "cell_type": "markdown",
      "source": [
        "Asi podemos ver que el profesional de mayor sueldo es un \"Development Manager\", proveniente del país de Polonia y que trabaja de manera remota. Algo por añadir es que su entrevista no fué remota. Y que los lenguajes que usa son Python, TypeScript y Ruby."
      ],
      "metadata": {
        "id": "o3ev3z0PBaec"
      }
    },
    {
      "cell_type": "markdown",
      "source": [
        "### Buscando una correlación de los 4 sueldos que existen en la tabla ..."
      ],
      "metadata": {
        "id": "21OK6fltKn9F"
      }
    },
    {
      "cell_type": "code",
      "source": [
        "# buscamos una correlación entre los diferentes tipos de sueldos\n",
        "correlacion = df_copy.loc[:,['salary_from_permanent', 'salary_to_permanent',\n",
        "        'salary_from_b2b','salary_to_b2b']].corr()\n",
        "sns.heatmap(correlacion, annot=True)\n",
        "plt.show()\n",
        "\n",
        "print()\n",
        "df_copy.loc[:,['salary_from_permanent', 'salary_to_permanent',\n",
        "        'salary_from_b2b','salary_to_b2b']].head(4)"
      ],
      "metadata": {
        "colab": {
          "base_uri": "https://localhost:8080/",
          "height": 557
        },
        "id": "kLLNx8_RDjfD",
        "outputId": "b6cdbac6-decd-4c6e-da06-eacca320c4d4"
      },
      "execution_count": 69,
      "outputs": [
        {
          "output_type": "display_data",
          "data": {
            "text/plain": [
              "<Figure size 1440x432 with 2 Axes>"
            ],
            "image/png": "[encoded data removed]"
          },
          "metadata": {}
        },
        {
          "output_type": "stream",
          "name": "stdout",
          "text": [
            "\n"
          ]
        },
        {
          "output_type": "execute_result",
          "data": {
            "text/plain": [
              "   salary_from_permanent  salary_to_permanent  salary_from_b2b  salary_to_b2b\n",
              "0           40255.854624         47136.387097     32996.602151   47136.387097\n",
              "1           39634.783463         46409.162426     32487.527429   46409.162426\n",
              "2           38292.674411         44837.660034     31387.438042   44837.660034\n",
              "3           38560.144299         45150.845888     31606.675655   45150.845888"
            ],
            "text/html": [
              "\n",
              "  <div id=\"df-0d864383-b67f-4248-8f19-95ab574106e8\">\n",
              "    <div class=\"colab-df-container\">\n",
              "      <div>\n",
              "<style scoped>\n",
              "    .dataframe tbody tr th:only-of-type {\n",
              "        vertical-align: middle;\n",
              "    }\n",
              "\n",
              "    .dataframe tbody tr th {\n",
              "        vertical-align: top;\n",
              "    }\n",
              "\n",
              "    .dataframe thead th {\n",
              "        text-align: right;\n",
              "    }\n",
              "</style>\n",
              "<table border=\"1\" class=\"dataframe\">\n",
              "  <thead>\n",
              "    <tr style=\"text-align: right;\">\n",
              "      <th></th>\n",
              "      <th>salary_from_permanent</th>\n",
              "      <th>salary_to_permanent</th>\n",
              "      <th>salary_from_b2b</th>\n",
              "      <th>salary_to_b2b</th>\n",
              "    </tr>\n",
              "  </thead>\n",
              "  <tbody>\n",
              "    <tr>\n",
              "      <th>0</th>\n",
              "      <td>40255.854624</td>\n",
              "      <td>47136.387097</td>\n",
              "      <td>32996.602151</td>\n",
              "      <td>47136.387097</td>\n",
              "    </tr>\n",
              "    <tr>\n",
              "      <th>1</th>\n",
              "      <td>39634.783463</td>\n",
              "      <td>46409.162426</td>\n",
              "      <td>32487.527429</td>\n",
              "      <td>46409.162426</td>\n",
              "    </tr>\n",
              "    <tr>\n",
              "      <th>2</th>\n",
              "      <td>38292.674411</td>\n",
              "      <td>44837.660034</td>\n",
              "      <td>31387.438042</td>\n",
              "      <td>44837.660034</td>\n",
              "    </tr>\n",
              "    <tr>\n",
              "      <th>3</th>\n",
              "      <td>38560.144299</td>\n",
              "      <td>45150.845888</td>\n",
              "      <td>31606.675655</td>\n",
              "      <td>45150.845888</td>\n",
              "    </tr>\n",
              "  </tbody>\n",
              "</table>\n",
              "</div>\n",
              "      <button class=\"colab-df-convert\" onclick=\"convertToInteractive('df-0d864383-b67f-4248-8f19-95ab574106e8')\"\n",
              "              title=\"Convert this dataframe to an interactive table.\"\n",
              "              style=\"display:none;\">\n",
              "        \n",
              "  <svg xmlns=\"http://www.w3.org/2000/svg\" height=\"24px\"viewBox=\"0 0 24 24\"\n",
              "       width=\"24px\">\n",
              "    <path d=\"M0 0h24v24H0V0z\" fill=\"none\"/>\n",
              "    <path d=\"M18.56 5.44l.94 2.06.94-2.06 2.06-.94-2.06-.94-.94-2.06-.94 2.06-2.06.94zm-11 1L8.5 8.5l.94-2.06 2.06-.94-2.06-.94L8.5 2.5l-.94 2.06-2.06.94zm10 10l.94 2.06.94-2.06 2.06-.94-2.06-.94-.94-2.06-.94 2.06-2.06.94z\"/><path d=\"M17.41 7.96l-1.37-1.37c-.4-.4-.92-.59-1.43-.59-.52 0-1.04.2-1.43.59L10.3 9.45l-7.72 7.72c-.78.78-.78 2.05 0 2.83L4 21.41c.39.39.9.59 1.41.59.51 0 1.02-.2 1.41-.59l7.78-7.78 2.81-2.81c.8-.78.8-2.07 0-2.86zM5.41 20L4 18.59l7.72-7.72 1.47 1.35L5.41 20z\"/>\n",
              "  </svg>\n",
              "      </button>\n",
              "      \n",
              "  <style>\n",
              "    .colab-df-container {\n",
              "      display:flex;\n",
              "      flex-wrap:wrap;\n",
              "      gap: 12px;\n",
              "    }\n",
              "\n",
              "    .colab-df-convert {\n",
              "      background-color: #E8F0FE;\n",
              "      border: none;\n",
              "      border-radius: 50%;\n",
              "      cursor: pointer;\n",
              "      display: none;\n",
              "      fill: #1967D2;\n",
              "      height: 32px;\n",
              "      padding: 0 0 0 0;\n",
              "      width: 32px;\n",
              "    }\n",
              "\n",
              "    .colab-df-convert:hover {\n",
              "      background-color: #E2EBFA;\n",
              "      box-shadow: 0px 1px 2px rgba(60, 64, 67, 0.3), 0px 1px 3px 1px rgba(60, 64, 67, 0.15);\n",
              "      fill: #174EA6;\n",
              "    }\n",
              "\n",
              "    [theme=dark] .colab-df-convert {\n",
              "      background-color: #3B4455;\n",
              "      fill: #D2E3FC;\n",
              "    }\n",
              "\n",
              "    [theme=dark] .colab-df-convert:hover {\n",
              "      background-color: #434B5C;\n",
              "      box-shadow: 0px 1px 3px 1px rgba(0, 0, 0, 0.15);\n",
              "      filter: drop-shadow(0px 1px 2px rgba(0, 0, 0, 0.3));\n",
              "      fill: #FFFFFF;\n",
              "    }\n",
              "  </style>\n",
              "\n",
              "      <script>\n",
              "        const buttonEl =\n",
              "          document.querySelector('#df-0d864383-b67f-4248-8f19-95ab574106e8 button.colab-df-convert');\n",
              "        buttonEl.style.display =\n",
              "          google.colab.kernel.accessAllowed ? 'block' : 'none';\n",
              "\n",
              "        async function convertToInteractive(key) {\n",
              "          const element = document.querySelector('#df-0d864383-b67f-4248-8f19-95ab574106e8');\n",
              "          const dataTable =\n",
              "            await google.colab.kernel.invokeFunction('convertToInteractive',\n",
              "                                                     [key], {});\n",
              "          if (!dataTable) return;\n",
              "\n",
              "          const docLinkHtml = 'Like what you see? Visit the ' +\n",
              "            '<a target=\"_blank\" href=https://colab.research.google.com/notebooks/data_table.ipynb>data table notebook</a>'\n",
              "            + ' to learn more about interactive tables.';\n",
              "          element.innerHTML = '';\n",
              "          dataTable['output_type'] = 'display_data';\n",
              "          await google.colab.output.renderOutput(dataTable, element);\n",
              "          const docLink = document.createElement('div');\n",
              "          docLink.innerHTML = docLinkHtml;\n",
              "          element.appendChild(docLink);\n",
              "        }\n",
              "      </script>\n",
              "    </div>\n",
              "  </div>\n",
              "  "
            ]
          },
          "metadata": {},
          "execution_count": 69
        }
      ]
    },
    {
      "cell_type": "markdown",
      "source": [
        "Escogimos como sueldo la columna \"salary_from_permanent\", pero dentro de la tabla hubo 3 más, al hacer este mapa de calor vemos que existe una relación lineal entre \"salary_from_permanent\" y \"salary_to_permanent\", de igual manera para los otros dos.\n",
        "Pero no, existe alguna relación entre \"salary_from_permanent\" y \"salary_from_b2b\" por ejemplo. Ya mostrando la tabla con algunos datos, podemos observar que estas dos columnas contienen la misma información.\n",
        "\n",
        "Si queremos ver estas relaciones entre las magnitudes de forma gráfica podemos usar la función pairplot..."
      ],
      "metadata": {
        "id": "lYnLwyjcKveX"
      }
    },
    {
      "cell_type": "code",
      "source": [
        "sns.pairplot(\n",
        "    df_copy,\n",
        "    x_vars=[\"salary_from_permanent\", \"salary_from_b2b\",\"salary_to_permanent\",\"salary_to_b2b\"],\n",
        "    y_vars=[\"salary_to_permanent\", \"salary_to_b2b\"],\n",
        "    hue=\"Workplace_type\" # aqui divido por el tipo de trabajos, pero no seria necesario\n",
        ")\n",
        "plt.show()"
      ],
      "metadata": {
        "colab": {
          "base_uri": "https://localhost:8080/",
          "height": 372
        },
        "id": "FuUBvgAzGo2o",
        "outputId": "fe0ee3d0-1167-4cec-a748-7a53b1caca0f"
      },
      "execution_count": 70,
      "outputs": [
        {
          "output_type": "display_data",
          "data": {
            "text/plain": [
              "<Figure size 837.475x360 with 10 Axes>"
            ],
            "image/png": "[encoded data removed]"
          },
          "metadata": {}
        }
      ]
    },
    {
      "cell_type": "markdown",
      "source": [
        "## Conclusión\n",
        "\n",
        "Para nuestro caso no afectó que usáramos cualquiera de las columnas que mostraban los sueldos. Claro, a menos que necesitáramos el valor del dato para hacer algún cálculo (ya que solo vimos medias y tendencias).\n",
        "\n",
        "Entonces es bueno tener siempre el diccionario de las columnas para saber que representan cada columna. Y documentar de igual manera un diccionario y otros cientificos de datos puedan entender tu dataset.\n",
        "\n",
        "También pudimos entender como los gráficos nos ayudan a comprender más fácil nuestra tabla y deducir nuestras interrogantes. Pero a la vez pueden sesgarnos si no lo aplicamos de una manera correcta (como lo que pasó en el grafico de bigotes al pensar que los tres niveles ganaban casi lo mismo)."
      ],
      "metadata": {
        "id": "P_zS4ia6Luva"
      }
    }
  ]
}