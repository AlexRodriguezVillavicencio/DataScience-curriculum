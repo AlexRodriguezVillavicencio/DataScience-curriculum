{
 "cells": [
  {
   "cell_type": "markdown",
   "metadata": {},
   "source": [
    "## $$\\text{R Cuadrado}$$"
   ]
  },
  {
   "cell_type": "markdown",
   "metadata": {},
   "source": [
    "Suma de los cuadrados de los residuos:\n",
    "$$SS_{res} = \\sum_{i}(y_i - \\hat{y}_i)^2$$\n",
    "\n",
    "Suma de los cuadrados total (variación total en y):\n",
    "$$SS_{tot} = \\sum_{i}(y_i - \\bar{y}_i)^2$$\n",
    "\n",
    "R cuadrado o  coeficiente de determinación (que porcentaje de la variación total está descrita por la variación en x):\n",
    "$$ R^2 = 1 - \\frac{SS_{res}}{SS_{tot}}$$"
   ]
  },
  {
   "cell_type": "markdown",
   "metadata": {},
   "source": [
    "## $$\\text{R Cuadrado  Ajustado}$$"
   ]
  },
  {
   "cell_type": "markdown",
   "metadata": {},
   "source": [
    "Para nuestro ejemplo de la eliminación hacia atrás (en la regresión lineal multiple), podemos ver como el R cuadrado ajustado (Adjusted R-squared) crece a media que eliminamos las variables con mayor pvalor. Viendo también como el R cuadrado (Multiple R-squared) nos da un cierto sesgo a la hora de elegir las variables independientes correctas. "
   ]
  },
  {
   "cell_type": "markdown",
   "metadata": {},
   "source": [
    "![](../img/rajustado.jpeg)"
   ]
  },
  {
   "cell_type": "markdown",
   "metadata": {},
   "source": [
    "El R ajustado nos ayuda a ver también que sin bien el Pvalor de Marketing es mayor a ```0.5``` (significancia). Eliminarlo no ayuda a nuestro modelo.\n",
    "Podemos concluir entonces, cuanto más gastan las empresas en Investigación y Desarrollo (R.D) y en su comercialización (Marketing), mayores son sus beneficios.\n",
    "\n",
    "Cuestiones a notar (R.D vs Marketing):\n",
    "-\n",
    "- La magnitud (Estimate) en gasto de I+D es superior a Marketing. Pero, antes de comparar, ¿el gasto de marketing y de I+D están en las mismas unidades?, que pasaría si el gasto en R+D vinieran en dólares y el de marketing serian en centavos de dólares. ```Aquí viene la importancia de escalar la variables, en ese caso si los dos vienen en dólares , entonces por cada dólar gasto en I+D se recibe un beneficio de \"7.966e-1\" y por cada dólar gastado en marketing se recibe un beneficio casi 10 veces menos\"```\n",
    "\n",
    "- Y si una variable tendría unidades de dólares y otra de metros cuadrados o tiempo? (Las unidades dictaminan la interpretación)"
   ]
  }
 ],
 "metadata": {
  "kernelspec": {
   "display_name": "Python 3.10.6 ('environment': venv)",
   "language": "python",
   "name": "python3"
  },
  "language_info": {
   "name": "python",
   "version": "3.10.6"
  },
  "orig_nbformat": 4,
  "vscode": {
   "interpreter": {
    "hash": "92a69b9d69ec489848c5388e733418cac9fbff1acfe8f34a457ccfacfdbdcdfe"
   }
  }
 },
 "nbformat": 4,
 "nbformat_minor": 2
}
