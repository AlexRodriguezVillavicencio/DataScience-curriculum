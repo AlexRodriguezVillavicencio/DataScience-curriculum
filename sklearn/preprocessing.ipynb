{
 "cells": [
  {
   "cell_type": "code",
   "execution_count": 3,
   "metadata": {},
   "outputs": [],
   "source": [
    "import numpy as np\n",
    "import matplotlib.pyplot as plt \n",
    "import pandas as pd"
   ]
  },
  {
   "cell_type": "code",
   "execution_count": 4,
   "metadata": {},
   "outputs": [],
   "source": [
    "# importando dataset\n",
    "df = pd.read_csv('./data/Data.csv')\n",
    "X = df.iloc[:,:-1].values\n",
    "y = df.iloc[:,:3].values"
   ]
  },
  {
   "cell_type": "markdown",
   "metadata": {},
   "source": [
    "### Tratamos los datos vacíos para los datos ordinales"
   ]
  },
  {
   "cell_type": "code",
   "execution_count": 5,
   "metadata": {},
   "outputs": [],
   "source": [
    "from sklearn.impute import SimpleImputer\n",
    "\n",
    "imputer = SimpleImputer(missing_values=np.nan, strategy='mean')\n",
    "imputer = imputer.fit(X[:,1:3])\n",
    "X[:,1:3] = imputer.transform(X[:,1:3])"
   ]
  },
  {
   "cell_type": "markdown",
   "metadata": {},
   "source": [
    "### Codificamos los datos categóricos"
   ]
  },
  {
   "cell_type": "markdown",
   "metadata": {},
   "source": [
    "Escogemos OneHotEncoder sobre LabelEncoder, solo uso LabelEncoder si las categorias son binarias, por ejemplo: Yes | No"
   ]
  },
  {
   "cell_type": "markdown",
   "metadata": {},
   "source": [
    "¿Debemos crear una variable dummy (OneHotEncoder) para codificar una variable independiente que nos de la talla S, M o L de una camiseta?\n",
    "\n",
    "No"
   ]
  },
  {
   "cell_type": "code",
   "execution_count": 6,
   "metadata": {},
   "outputs": [],
   "source": [
    "# from sklearn.preprocessing import LabelEncoder\n",
    "\n",
    "# labelencoder_X = LabelEncoder()\n",
    "# X[:,0] = labelencoder_X.fit_transform(X[:,0])\n",
    "\n",
    "from sklearn.preprocessing import OneHotEncoder\n",
    "\n",
    "ct = ColumnTransformer(\n",
    "    [('one_hot_encoder', OneHotEncoder(categories='auto'), [0])], # Los números de columna que se van a transformar (aquí está [0] pero puede ser [0, 1, 3])\n",
    "    remainder='passthrough'  # Deja el resto de las columnas intactas\n",
    "\n",
    "#si queremos revertir\n",
    "# inverse_transform()"
   ]
  },
  {
   "cell_type": "markdown",
   "metadata": {},
   "source": [
    "### Separamos los datos de entrenamiento y de testeo"
   ]
  },
  {
   "cell_type": "code",
   "execution_count": 7,
   "metadata": {},
   "outputs": [],
   "source": [
    "from sklearn.model_selection import train_test_split\n",
    "\n",
    "x_train, x_test, y_train, y_test = train_test_split(X,y,test_size=0.2,random_state=0)"
   ]
  },
  {
   "cell_type": "markdown",
   "metadata": {},
   "source": [
    "### Escalado de variables"
   ]
  },
  {
   "cell_type": "markdown",
   "metadata": {},
   "source": [
    "distancia euclidiana (pitágoras), rango entre 0 a 1 para que los pesos de las variables tengan igual importancia\n",
    "\n",
    "¿necesitamos escalar las variables dummy?\n",
    "depende del criterio"
   ]
  },
  {
   "cell_type": "markdown",
   "metadata": {},
   "source": [
    "si nuestro algoritmo es de clasificación entonces no escalamos y_train | y_test\n",
    "pero si se trata de algoritmo de predicción, entonces si los escalamos"
   ]
  },
  {
   "cell_type": "code",
   "execution_count": 15,
   "metadata": {},
   "outputs": [],
   "source": [
    "# estandarización\n",
    "from sklearn.preprocessing import StandardScaler\n",
    "\n",
    "sc_X = StandardScaler()\n",
    "x_train = sc_X.fit_transform(x_train)\n",
    "x_test = sc_X.transform(x_test) #para que escale con la misma transformación que los datos de entrenamiento\n",
    "\n",
    "# normalización"
   ]
  }
 ],
 "metadata": {
  "kernelspec": {
   "display_name": "Python 3.10.6 ('environment': venv)",
   "language": "python",
   "name": "python3"
  },
  "language_info": {
   "codemirror_mode": {
    "name": "ipython",
    "version": 3
   },
   "file_extension": ".py",
   "mimetype": "text/x-python",
   "name": "python",
   "nbconvert_exporter": "python",
   "pygments_lexer": "ipython3",
   "version": "3.10.6"
  },
  "orig_nbformat": 4,
  "vscode": {
   "interpreter": {
    "hash": "92a69b9d69ec489848c5388e733418cac9fbff1acfe8f34a457ccfacfdbdcdfe"
   }
  }
 },
 "nbformat": 4,
 "nbformat_minor": 2
}
