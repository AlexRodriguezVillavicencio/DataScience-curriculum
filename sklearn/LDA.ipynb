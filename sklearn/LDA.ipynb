{
 "cells": [
  {
   "attachments": {},
   "cell_type": "markdown",
   "metadata": {},
   "source": [
    "## $$\\text{Análisis del discriminante lineal}$$"
   ]
  },
  {
   "attachments": {},
   "cell_type": "markdown",
   "metadata": {},
   "source": [
    "Objetivo: Reducir el número de columnas de un datasets para hacer que los algoritmo reduzcan el tiempo de entrenamiento."
   ]
  },
  {
   "attachments": {},
   "cell_type": "markdown",
   "metadata": {},
   "source": [
    "**Paso 1:** Aplicar escalado de variables a la matriz de características X, formada por n variables independientes.\n",
    "\n",
    "**Paso 2:** sea `C` el número de clases, calcular C vectores m-dimensionales, de modo que cada uno contenga las medias de las características de las observaciones para cada clase.\n",
    "\n",
    "Ex: Supongamos que las VD tienen dos clases 0 y 1, y sea $x_j^i$ la característica j-ésima de la observación i-ésima, entonces:\n",
    "![](./img/lda1.png)\n",
    "\n",
    "**Paso 3:** Calculamos la matriz de productos cruzados centrados en la media para cada clase, que mide la varianza dentro de cada clase.\n",
    "\n",
    "Con nuestro ejemplo de las clase 0 y 1, las dos matrices de productos cruzados $S_o$ y $S_1$ para las respectivas clase 0 y 1 son:\n",
    "![](./img/lda2.png)\n",
    "\n",
    "**Paso 4:** Calculamos la covarianza normalizada de todas las matrices anteriores, W.\n",
    "\n",
    "Con nuestro ejemplo de las clases 0 y 1, la covarianza normalizada W es simplemente:\n",
    "$$W = \\frac{1}{n_0}S_0 + \\frac{1}{n_1}S_1$$\n",
    "\n",
    "**Paso 5:** Calculamos la matriz de covarianza global entre clases B es simplemente:\n",
    "![](./img/lda3.png)\n",
    "\n",
    "**Paso 6:** Calculamos los valores y vectores propios de la matriz:\n",
    "$$W^{-1}B$$\n",
    "\n",
    "**Paso 7:** Elegimos los p valores propios más grandes como el número de dimensiones reducidas.\n",
    "\n",
    "\n",
    "Mas información : [aqui](https://sebastianraschka.com/Articles/2014_python_lda.html)"
   ]
  },
  {
   "cell_type": "code",
   "execution_count": 2,
   "metadata": {},
   "outputs": [],
   "source": [
    "import pandas as pd \n",
    "import numpy as np\n",
    "\n",
    "dataset = pd.read_csv('./data/Wine.csv')\n",
    "\n",
    "x = dataset.iloc[:,0:-1].values\n",
    "y = dataset.iloc[:,-1].values\n",
    "\n",
    "from sklearn.model_selection import train_test_split \n",
    "\n",
    "xtrain, xtest, ytrain, ytest = train_test_split(x,y,random_state=0,test_size=0.2)\n",
    "from sklearn.preprocessing import StandardScaler \n",
    "\n",
    "scx = StandardScaler()\n",
    "xtrain = scx.fit_transform(xtrain)\n",
    "xtest = scx.transform(xtest)"
   ]
  },
  {
   "attachments": {},
   "cell_type": "markdown",
   "metadata": {},
   "source": [
    "### Reducimos la dimensionalidad con LDA"
   ]
  },
  {
   "cell_type": "code",
   "execution_count": 3,
   "metadata": {},
   "outputs": [],
   "source": [
    "from sklearn.discriminant_analysis import LinearDiscriminantAnalysis as LDA\n",
    "\n",
    "lda = LDA(n_components=2)\n",
    "# al ser un algoritmo supervisado (al contrario del PCA) necesitamos suministrarle la información de las clases\n",
    "xtrain = lda.fit_transform(xtrain,ytrain)\n",
    "xtest = lda.transform(xtest)"
   ]
  },
  {
   "cell_type": "code",
   "execution_count": 5,
   "metadata": {},
   "outputs": [
    {
     "data": {
      "text/plain": [
       "array([[14,  0,  0],\n",
       "       [ 0, 16,  0],\n",
       "       [ 0,  0,  6]])"
      ]
     },
     "execution_count": 5,
     "metadata": {},
     "output_type": "execute_result"
    }
   ],
   "source": [
    "from sklearn.linear_model import LogisticRegression\n",
    "\n",
    "classifier = LogisticRegression(random_state = 0)\n",
    "classifier.fit(xtrain, ytrain)\n",
    "\n",
    "ypred = classifier.predict(xtest)\n",
    "from sklearn.metrics import confusion_matrix\n",
    "cm = confusion_matrix(ytest, ypred)\n",
    "cm"
   ]
  },
  {
   "attachments": {},
   "cell_type": "markdown",
   "metadata": {},
   "source": [
    "### Representación visual para el conjunto de test"
   ]
  },
  {
   "cell_type": "code",
   "execution_count": 7,
   "metadata": {},
   "outputs": [
    {
     "data": {
      "image/png": "[encoded data removed]",
      "text/plain": [
       "<Figure size 640x480 with 1 Axes>"
      ]
     },
     "metadata": {},
     "output_type": "display_data"
    }
   ],
   "source": [
    "import matplotlib.pyplot as plt\n",
    "from matplotlib.colors import ListedColormap\n",
    "\n",
    "X_set, y_set = xtest, ytest\n",
    "X1, X2 = np.meshgrid(np.arange(start = X_set[:, 0].min() - 1, stop = X_set[:, 0].max() + 1, step = 0.01),\n",
    "                     np.arange(start = X_set[:, 1].min() - 1, stop = X_set[:, 1].max() + 1, step = 0.01))\n",
    "plt.contourf(X1, X2, classifier.predict(np.array([X1.ravel(), X2.ravel()]).T).reshape(X1.shape),\n",
    "             alpha = 0.3, cmap = ListedColormap(('red', 'green', 'blue')))\n",
    "plt.xlim(X1.min(), X1.max())\n",
    "plt.ylim(X2.min(), X2.max())\n",
    "for i, j in enumerate(np.unique(y_set)):\n",
    "    plt.scatter(X_set[y_set == j, 0], X_set[y_set == j, 1],\n",
    "                color = ListedColormap(('red', 'green', 'blue'))(i), label = j)\n",
    "plt.title('Clasificador (Conjunto de Entrenamiento)')\n",
    "plt.xlabel('CP1')\n",
    "plt.ylabel('CP2')\n",
    "plt.legend()\n",
    "plt.show()"
   ]
  }
 ],
 "metadata": {
  "kernelspec": {
   "display_name": "environment",
   "language": "python",
   "name": "python3"
  },
  "language_info": {
   "codemirror_mode": {
    "name": "ipython",
    "version": 3
   },
   "file_extension": ".py",
   "mimetype": "text/x-python",
   "name": "python",
   "nbconvert_exporter": "python",
   "pygments_lexer": "ipython3",
   "version": "3.10.6"
  },
  "orig_nbformat": 4,
  "vscode": {
   "interpreter": {
    "hash": "92a69b9d69ec489848c5388e733418cac9fbff1acfe8f34a457ccfacfdbdcdfe"
   }
  }
 },
 "nbformat": 4,
 "nbformat_minor": 2
}
