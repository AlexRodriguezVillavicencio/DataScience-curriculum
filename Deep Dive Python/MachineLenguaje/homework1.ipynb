{
 "cells": [
  {
   "cell_type": "markdown",
   "metadata": {},
   "source": [
    "# Binary Numbers"
   ]
  },
  {
   "cell_type": "markdown",
   "metadata": {},
   "source": [
    "#### 1. Create a function capable of converting integers from base 10 to base 2. It must receive the number to convert as parameter. (don't use the function formart(n,'b'))"
   ]
  },
  {
   "cell_type": "code",
   "execution_count": 16,
   "metadata": {},
   "outputs": [],
   "source": [
    "def numberBinary(number):\n",
    "    if not isinstance(number,int) or number < 0:\n",
    "        return None\n",
    "    if number == 0:\n",
    "        return 0\n",
    "    binary = []\n",
    "    while number > 0:\n",
    "        residue = number%2\n",
    "        binary.insert(0,residue)\n",
    "        number //= 2\n",
    "    return int(\"\".join(str(i) for i in binary))"
   ]
  },
  {
   "cell_type": "code",
   "execution_count": 26,
   "metadata": {},
   "outputs": [
    {
     "name": "stdout",
     "output_type": "stream",
     "text": [
      "1100\n",
      "11101\n",
      "None\n",
      "None\n",
      "None\n"
     ]
    }
   ],
   "source": [
    "print(numberBinary(12))\n",
    "print(numberBinary(29))\n",
    "print(numberBinary('string'))\n",
    "print(numberBinary(-1))\n",
    "print(numberBinary(0.4))"
   ]
  },
  {
   "cell_type": "markdown",
   "metadata": {},
   "source": [
    "#### 2. Convert from decimal to binary the fractions: 1/2, 1/3, 1/4, 1/5, 1/6, 1/7, 1/8, 1/9. then analyze the results and observe what particularity is found in them."
   ]
  },
  {
   "cell_type": "code",
   "execution_count": 59,
   "metadata": {},
   "outputs": [],
   "source": [
    "def numberBinaryFraction(number):\n",
    "    if isinstance(number,float) and number > 0 and number < 1:\n",
    "        binary = []\n",
    "        limit = 16\n",
    "        i = 0\n",
    "        while number != 0 and i < limit:\n",
    "            binary.append(int(number*2))\n",
    "            number = number*2 - int(number*2)\n",
    "            i += 1\n",
    "        result = '0'+'.'+\"\".join(str(e) for e in binary)\n",
    "        return float(result)\n",
    "    elif number == 0:\n",
    "        return 0\n",
    "    else:\n",
    "        return None\n"
   ]
  },
  {
   "cell_type": "code",
   "execution_count": 66,
   "metadata": {},
   "outputs": [
    {
     "name": "stdout",
     "output_type": "stream",
     "text": [
      "Fraction 1/ 2 in decimal: 0.5 and in binary: 0.1\n",
      "Fraction 1/ 3 in decimal: 0.3333333333333333 and in binary: 0.0101010101010101\n",
      "Fraction 1/ 4 in decimal: 0.25 and in binary: 0.01\n",
      "Fraction 1/ 5 in decimal: 0.2 and in binary: 0.0011001100110011\n",
      "Fraction 1/ 6 in decimal: 0.16666666666666666 and in binary: 0.001010101010101\n",
      "Fraction 1/ 7 in decimal: 0.14285714285714285 and in binary: 0.001001001001001\n",
      "Fraction 1/ 8 in decimal: 0.125 and in binary: 0.001\n",
      "Fraction 1/ 9 in decimal: 0.1111111111111111 and in binary: 0.0001110001110001\n"
     ]
    }
   ],
   "source": [
    "for i in range(2,10):\n",
    "    print('Fraction 1/',i,'in decimal:',float(1/i),'and in binary:',numberBinaryFraction(1/i))"
   ]
  },
  {
   "cell_type": "markdown",
   "metadata": {},
   "source": [
    "**Conclusion:** The float 0.2 and its multiples (0.4, 0.6, ....) are periodic in the binary system. There may be other fractions and floats that also have this anomaly.\n"
   ]
  }
 ],
 "metadata": {
  "interpreter": {
   "hash": "76974d4ce00073232c66ed1a7ae82ac9f43c4b0d156d4648b5285e8e9ff08862"
  },
  "kernelspec": {
   "display_name": "Python 3.7.9 64-bit",
   "language": "python",
   "name": "python3"
  },
  "language_info": {
   "codemirror_mode": {
    "name": "ipython",
    "version": 3
   },
   "file_extension": ".py",
   "mimetype": "text/x-python",
   "name": "python",
   "nbconvert_exporter": "python",
   "pygments_lexer": "ipython3",
   "version": "3.7.9"
  },
  "orig_nbformat": 4
 },
 "nbformat": 4,
 "nbformat_minor": 2
}
