{
 "cells": [
  {
   "cell_type": "markdown",
   "metadata": {},
   "source": [
    "### una manera de elegir un learning rate"
   ]
  },
  {
   "cell_type": "markdown",
   "metadata": {},
   "source": [
    "debemos de buscar en un intervalo de [0.001 - 1]"
   ]
  },
  {
   "cell_type": "code",
   "execution_count": null,
   "metadata": {},
   "outputs": [],
   "source": [
    "#instanciar modelo\n",
    "hidden1 = 200\n",
    "hidden = 200\n",
    "lr = 1e-4\n",
    "epochs = 20\n",
    "mb_size = 512\n",
    "\n",
    "\n",
    "models = {}\n",
    "for i in range(10):\n",
    "\n",
    "    j = -3*np.random.rand()\n",
    "    lr = 10**j\n",
    "\n",
    "    model1 = nn.Sequential(nn.Linear(in_features=784,out_features=hidden1),nn.ReLU(),\n",
    "                            nn.Linear(in_features=hidden,out_features=10))\n",
    "\n",
    "    optimizer = torch.optim.SGD(model1.parameters(), lr=lr)\n",
    "    train(model1,optimizer,mb_size,epochs)\n",
    "    acc = accuracy(model1,x_val_tensor,y_val_tensor,mb_size)\n",
    "    print(f'con lr:{lr} acurracy:{acc}')\n",
    "    print()\n",
    "\n",
    "    #guardamos en un diccionario\n",
    "    models[lr] = acc"
   ]
  },
  {
   "cell_type": "code",
   "execution_count": null,
   "metadata": {},
   "outputs": [],
   "source": [
    "models_ord = sorted(models.items(), key=lambda x:x[1], reverse=True)"
   ]
  },
  {
   "cell_type": "markdown",
   "metadata": {},
   "source": [
    "De esta manera vamos a escoger el intervalo que más acurracy nos dé, y ahora buscamos el lr dentro de ese rango:"
   ]
  },
  {
   "cell_type": "code",
   "execution_count": null,
   "metadata": {},
   "outputs": [],
   "source": [
    "import random\n",
    "\n",
    "models = {}\n",
    "for i in range(5):\n",
    "\n",
    "    # j = -3*np.random.rand()\n",
    "    # lr = 10**j\n",
    "    lr = random.randrange(50,500)/1000l\n",
    "\n",
    "    model1 = nn.Sequential(nn.Linear(in_features=784,out_features=hidden1),nn.ReLU(),\n",
    "                            nn.Linear(in_features=hidden,out_features=10))\n",
    "\n",
    "    optimizer = torch.optim.SGD(model1.parameters(), lr=lr)\n",
    "    train(model1,optimizer,mb_size,epochs)\n",
    "    acc = accuracy(model1,x_val_tensor,y_val_tensor,mb_size)\n",
    "    print(f'con lr:{lr} acurracy:{acc}')\n",
    "    print()\n",
    "\n",
    "    #guardamos en un diccionario\n",
    "    models[lr] = acc"
   ]
  }
 ],
 "metadata": {
  "kernelspec": {
   "display_name": "Python 3.10.6 ('environment': venv)",
   "language": "python",
   "name": "python3"
  },
  "language_info": {
   "name": "python",
   "version": "3.10.6"
  },
  "orig_nbformat": 4,
  "vscode": {
   "interpreter": {
    "hash": "5e501ee22cc57deeb2360814fd125914d9538f135e6d01a58ac42a717d3f1d7d"
   }
  }
 },
 "nbformat": 4,
 "nbformat_minor": 2
}
