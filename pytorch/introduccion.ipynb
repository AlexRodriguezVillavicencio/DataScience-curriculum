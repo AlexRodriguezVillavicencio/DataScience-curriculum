{
 "cells": [
  {
   "cell_type": "code",
   "execution_count": 63,
   "id": "fe520858",
   "metadata": {},
   "outputs": [],
   "source": [
    "import numpy as np\n",
    "from utils import get_images, plot_number\n",
    "\n",
    "mnist_path = './data/mnist_raw/'\n",
    "x_train_num,y_train_num,x_test_num,y_test_num = get_images(mnist_path)"
   ]
  },
  {
   "cell_type": "code",
   "execution_count": 64,
   "id": "8d0a4742",
   "metadata": {},
   "outputs": [
    {
     "name": "stdout",
     "output_type": "stream",
     "text": [
      "numero: 2\n"
     ]
    },
    {
     "data": {
      "image/png": "[encoded data removed]",
      "text/plain": [
       "<Figure size 640x480 with 1 Axes>"
      ]
     },
     "metadata": {},
     "output_type": "display_data"
    }
   ],
   "source": [
    "rand_idx = np.random.randint(len(y_test_num))\n",
    "print(f'numero: {y_test_num[rand_idx]}')\n",
    "plot_number(x_test_num[rand_idx])"
   ]
  },
  {
   "cell_type": "code",
   "execution_count": 66,
   "id": "cdca65ea",
   "metadata": {},
   "outputs": [],
   "source": [
    "# convertir imágenes en vectores y float32\n",
    "\n",
    "x_train = x_train_num[:50000].reshape(50000, -1).astype(np.float32)/255\n",
    "y_train = y_train_num[:50000].reshape(50000, 1)\n",
    "\n",
    "x_val = x_train_num[50000:].reshape(10000, -1).astype(np.float64)/255\n",
    "y_val = y_train_num[50000:].reshape(10000, 1)\n",
    "\n",
    "x_test = x_test_num.copy().reshape(10000, -1).astype(np.float64)/255\n",
    "y_test = y_test_num.copy().reshape(10000, 1)"
   ]
  },
  {
   "cell_type": "markdown",
   "id": "9b4d8b0a",
   "metadata": {},
   "source": [
    "### Ecuaciones para nuestro modelo\n",
    "\n",
    "\n",
    "$$z^1 = W^1 X + b^1$$\n",
    "\n",
    "$$a^1 = ReLU(z^1) $$\n",
    "\n",
    "$$z^2 = W^2 a^1 + b^2$$\n",
    "\n",
    "$$\\hat{y} = \\frac{e^{z^{2_k}}}{\\sum_j{e^{z_j}}}$$\n",
    "\n",
    "\n",
    "$$ \\mathcal{L}(\\hat{y}^{i}, y^{i}) =  - y^{i}  \\ln(\\hat{y}^{i}) = -\\ln(\\hat{y}^i)$$\n",
    "\n",
    "\n",
    "$$ \\mathcal{J}(w, b) =  \\frac{1}{num\\_samples} \\sum_{i=1}^{num\\_samples}-\\ln(\\hat{y}^{i})$$"
   ]
  },
  {
   "cell_type": "code",
   "execution_count": 69,
   "id": "62f583da",
   "metadata": {},
   "outputs": [
    {
     "name": "stdout",
     "output_type": "stream",
     "text": [
      "784 parámetros\n"
     ]
    }
   ],
   "source": [
    "print(f'{x_train.shape[1]} parámetros')"
   ]
  },
  {
   "cell_type": "markdown",
   "id": "0f6a7ca2",
   "metadata": {},
   "source": [
    "La imagen la convertimos a un vector de 784 elementos. \n",
    "crearemos dos capas de 200 neuronas y 10 neuronas.\n",
    "La pasamos por una función de activación, usaremos la ReLU.\n",
    "\n",
    "No podemos procesar los 50000 datos de golpe, por que usariamos demasiado uso de memoria. Vamos a dividir nuestros datos de entrada en una matriz."
   ]
  },
  {
   "cell_type": "code",
   "execution_count": 70,
   "id": "257b5d79",
   "metadata": {},
   "outputs": [],
   "source": [
    "#creamos una función minibach, y el paso de elementos serían\n",
    "# en potencias de 2\n",
    "# por ejemplo de los 50000 datos pasamos de 16 en 16 o 32 en 32\n",
    "# o de 128 en 128, ....\n",
    "\n",
    "def create_minibatches(mb_size, x, y, shuffle = True):\n",
    "    '''\n",
    "    x  #muestras, 784\n",
    "    y #muestras, 1\n",
    "    '''\n",
    "    assert x.shape[0] == y.shape[0], 'Error en cantidad de muestras'\n",
    "    total_data = x.shape[0]\n",
    "    if shuffle: \n",
    "        idxs = np.arange(total_data)\n",
    "        np.random.shuffle(idxs)\n",
    "        x = x[idxs]\n",
    "        y = y[idxs]\n",
    "        \n",
    "    return ((x[i:i+mb_size], y[i:i+mb_size]) for i in range(0, total_data, mb_size))"
   ]
  },
  {
   "cell_type": "markdown",
   "id": "ed44b9e4",
   "metadata": {},
   "source": [
    "Vamos a definir nuestros parametros y funciones para el forward pass, función de activación ReLU, función de activación\n",
    "softmax y luego la función de pérdida."
   ]
  },
  {
   "cell_type": "code",
   "execution_count": 71,
   "id": "3ad297f3",
   "metadata": {},
   "outputs": [],
   "source": [
    "def init_parameters(input_size, neurons):\n",
    "    \n",
    "    '''\n",
    "    input_size -> elementos de entrada, 784\n",
    "    neurons -> list [200, 10] con cantidad de neuronas en cada capa\n",
    "    '''\n",
    "    \n",
    "    W1 = np.random.randn(neurons[0], input_size) * 0.001\n",
    "    b1 = np.zeros((neurons[0], 1))\n",
    "    \n",
    "    W2 = np.random.randn(neurons[1], neurons[0]) * 0.001\n",
    "    b2 = np.zeros((neurons[1], 1))\n",
    "    \n",
    "    return {'W1': W1, 'b1':b1, 'W2':W2, 'b2':b2}"
   ]
  },
  {
   "cell_type": "code",
   "execution_count": 72,
   "id": "8ee1790e",
   "metadata": {},
   "outputs": [
    {
     "name": "stdout",
     "output_type": "stream",
     "text": [
      "(200, 784)\n",
      "(10, 200)\n",
      "(200, 1)\n",
      "(10, 1)\n"
     ]
    }
   ],
   "source": [
    "parameters = init_parameters(28*28,[200,10])\n",
    "print(parameters['W1'].shape)\n",
    "print(parameters['W2'].shape)\n",
    "print(parameters['b1'].shape)\n",
    "print(parameters['b2'].shape)"
   ]
  },
  {
   "cell_type": "markdown",
   "id": "659fea52",
   "metadata": {},
   "source": [
    "### Función ReLU\n",
    "$$a^1 = ReLU(z^1) $$"
   ]
  },
  {
   "cell_type": "code",
   "execution_count": 73,
   "id": "f5650c49",
   "metadata": {},
   "outputs": [],
   "source": [
    "def relu(x):\n",
    "    return np.maximum(0, x)"
   ]
  },
  {
   "cell_type": "markdown",
   "id": "14ae894c",
   "metadata": {},
   "source": [
    "### Salida Lineal\n",
    "$$z^1 = W^1 X + b^1$$"
   ]
  },
  {
   "cell_type": "code",
   "execution_count": 74,
   "id": "b48d27cd",
   "metadata": {},
   "outputs": [],
   "source": [
    "def scores(x, parameters, activation_fcn):\n",
    "    '''\n",
    "    x tiene la forma (#pixeles, num samples)\n",
    "    '''\n",
    "    z1 = parameters['W1'] @ x + parameters['b1']\n",
    "    a1 = activation_fcn(z1) # devuel fcn. de activa.\n",
    "    z2 = parameters['W2'] @ a1 + parameters['b2']\n",
    "    \n",
    "    return z2, z1, a1"
   ]
  },
  {
   "cell_type": "markdown",
   "id": "659160a2",
   "metadata": {},
   "source": [
    "### Función de activación softmax\n",
    "$$\\hat{y} = \\frac{e^{z^{2_k}}}{\\sum_j{e^{z_j}}}$$"
   ]
  },
  {
   "cell_type": "code",
   "execution_count": 75,
   "id": "2f4a2c9a",
   "metadata": {},
   "outputs": [],
   "source": [
    "def softmax(x):\n",
    "    exp_scores = np.exp(x)\n",
    "    sum_exp_scores = np.sum(exp_scores, axis=0)\n",
    "    probs = exp_scores/sum_exp_scores\n",
    "    return probs"
   ]
  },
  {
   "cell_type": "markdown",
   "id": "7c013494",
   "metadata": {},
   "source": [
    "### Función de pérdida\n",
    "$$ \\mathcal{L}(\\hat{y}^{i}, y^{i}) =  - y^{i}  \\ln(\\hat{y}^{i}) = -\\ln(\\hat{y}^i)$$"
   ]
  },
  {
   "cell_type": "code",
   "execution_count": 76,
   "id": "036df8fa",
   "metadata": {},
   "outputs": [],
   "source": [
    "def x_entropy(scores, y, batch_size=64):\n",
    "    probs = softmax(scores)\n",
    "    y_hat = probs[y.squeeze(), np.arange(batch_size)]\n",
    "    cost = np.sum(-np.log(y_hat)) / batch_size\n",
    "    \n",
    "    return probs, cost"
   ]
  },
  {
   "cell_type": "markdown",
   "id": "6ab9a357",
   "metadata": {},
   "source": [
    "### Función de retropropagación"
   ]
  },
  {
   "cell_type": "code",
   "execution_count": 77,
   "id": "8e6df761",
   "metadata": {},
   "outputs": [],
   "source": [
    "def backward(probs, x, y, z1, a1, scores, parameters, batch_size=64):\n",
    "    grads = {}\n",
    "    probs[y.squeeze(), np.arange(batch_size)] -= 1 # y-hat - y\n",
    "    dz2 = probs.copy()\n",
    "    \n",
    "    dW2 = dz2 @ a1.T / batch_size\n",
    "    db2 = np.sum(dz2, axis =1, keepdims=True) / batch_size\n",
    "    da1 = parameters['W2'].T @ dz2\n",
    "    \n",
    "    dz1 = da1.copy()\n",
    "    dz1[z1 <= 0 ] =0\n",
    "    \n",
    "    dW1 = dz1 @ x \n",
    "    db1 = np.sum(dz1, axis=1, keepdims=True) \n",
    "    \n",
    "    assert parameters['W1'].shape == dW1.shape, 'W1 no igual forma'\n",
    "    assert parameters['W2'].shape == dW2.shape, 'W2 no igual forma'\n",
    "    assert parameters['b1'].shape == db1.shape, 'b1 no igual forma'\n",
    "    assert parameters['b2'].shape == db2.shape, 'b2 no igual forma'\n",
    "    \n",
    "    grads = {'w1':dW1,  'b1':db1, 'W2':dW2, 'b2':db2}\n",
    "    \n",
    "    return grads"
   ]
  },
  {
   "cell_type": "markdown",
   "id": "3ed7e42e",
   "metadata": {},
   "source": [
    "### Ciclo de entrenamiento (iteración o epoch)"
   ]
  },
  {
   "cell_type": "code",
   "execution_count": 78,
   "id": "1c96d7f2",
   "metadata": {},
   "outputs": [],
   "source": [
    "# función de medición\n",
    "def accuracy(x_data, y_data, mb_size=64):\n",
    "    correct = 0\n",
    "    total = 0\n",
    "    for i, (x, y) in enumerate(create_minibatches(mb_size, x_data, y_data)):\n",
    "        scores2, z1, a1 = scores(x.T, parameters, relu)\n",
    "        y_hat, cost = x_entropy(scores2, y, batch_size=len(x))\n",
    "        \n",
    "        correct += np.sum(np.argmax(y_hat, axis=0) == y.squeeze())\n",
    "        total += y_hat.shape[1]\n",
    "    return correct/total"
   ]
  },
  {
   "cell_type": "code",
   "execution_count": 79,
   "id": "881d603e",
   "metadata": {},
   "outputs": [],
   "source": [
    "# función de entrenamiento\n",
    "def train(epochs, parameters, mb_size=64, learning_rate = 1e-3):\n",
    "    for epoch in range(epochs):\n",
    "        for i, (x, y) in enumerate(create_minibatches(mb_size, x_train, y_train)):\n",
    "            scores2, z1, a1 = scores(x.T, parameters=parameters, activation_fcn=relu)\n",
    "            y_hat, cost = x_entropy(scores2, y, batch_size=len(x))\n",
    "            grads = backward(y_hat, x, y, z1, a1, scores2, parameters, batch_size=len(x))\n",
    "            \n",
    "            parameters['W1'] = parameters['W1'] - learning_rate*grads['w1']\n",
    "            parameters['b1'] = parameters['b1'] - learning_rate*grads['b1']\n",
    "            parameters['b2'] = parameters['b2'] - learning_rate*grads['b2']\n",
    "            parameters['W2'] = parameters['W2'] - learning_rate*grads['W2']\n",
    "            \n",
    "        print(f'costo es: {cost}, y accuracy: {accuracy(x_val, y_val, mb_size)}')\n",
    "    return parameters"
   ]
  },
  {
   "cell_type": "code",
   "execution_count": 80,
   "id": "a3b1be56",
   "metadata": {},
   "outputs": [
    {
     "name": "stdout",
     "output_type": "stream",
     "text": [
      "costo es: 0.5359699711817183, y accuracy: 0.8699\n",
      "costo es: 0.38085216794966315, y accuracy: 0.9004\n",
      "costo es: 0.3162411836937759, y accuracy: 0.9131\n",
      "costo es: 0.2371542373375306, y accuracy: 0.924\n",
      "costo es: 0.3047589609516316, y accuracy: 0.928\n",
      "costo es: 0.20715449130320665, y accuracy: 0.9356\n",
      "costo es: 0.20251192797273784, y accuracy: 0.9405\n",
      "costo es: 0.19661987380340645, y accuracy: 0.9448\n",
      "costo es: 0.2621265116478647, y accuracy: 0.9493\n",
      "costo es: 0.20270553069561037, y accuracy: 0.9501\n",
      "costo es: 0.18602693852217966, y accuracy: 0.9538\n",
      "costo es: 0.1293126914694771, y accuracy: 0.9557\n",
      "costo es: 0.15585263588073012, y accuracy: 0.9582\n",
      "costo es: 0.16231552637295255, y accuracy: 0.959\n",
      "costo es: 0.16675123707719844, y accuracy: 0.9616\n",
      "costo es: 0.12650486825699211, y accuracy: 0.9627\n",
      "costo es: 0.11450738265249379, y accuracy: 0.9639\n",
      "costo es: 0.13160663569940748, y accuracy: 0.9651\n",
      "costo es: 0.06087557368217108, y accuracy: 0.966\n",
      "costo es: 0.09012532437429314, y accuracy: 0.9671\n"
     ]
    }
   ],
   "source": [
    "#entrenando\n",
    "mb_size = 512\n",
    "learning_rate = 1e-2\n",
    "epochs = 20\n",
    "parameters = train(epochs=epochs,parameters=parameters,mb_size=mb_size,learning_rate=learning_rate)"
   ]
  },
  {
   "cell_type": "markdown",
   "id": "af9661af",
   "metadata": {},
   "source": [
    "### predicción"
   ]
  },
  {
   "cell_type": "code",
   "execution_count": 81,
   "id": "e4decd6e",
   "metadata": {},
   "outputs": [],
   "source": [
    "def predict(x):\n",
    "    scores2, _, _ = scores(x, parameters, relu)\n",
    "    return np.argmax(scores2)"
   ]
  },
  {
   "cell_type": "code",
   "execution_count": 85,
   "id": "d739836f",
   "metadata": {},
   "outputs": [
    {
     "name": "stdout",
     "output_type": "stream",
     "text": [
      "el valor predicho es: 1\n"
     ]
    },
    {
     "data": {
      "image/png": "[encoded data removed]",
      "text/plain": [
       "<Figure size 640x480 with 1 Axes>"
      ]
     },
     "metadata": {},
     "output_type": "display_data"
    }
   ],
   "source": [
    "idx = np.random.randint(len(y_test))\n",
    "plot_number(x_test_num[idx])\n",
    "pred = predict(x_test[idx].reshape(-1, 1))\n",
    "print(f'el valor predicho es: {pred}')"
   ]
  }
 ],
 "metadata": {
  "kernelspec": {
   "display_name": "Python 3 (ipykernel)",
   "language": "python",
   "name": "python3"
  },
  "vscode": {
   "interpreter": {
    "hash": "5e501ee22cc57deeb2360814fd125914d9538f135e6d01a58ac42a717d3f1d7d"
   }
  }
 },
 "nbformat": 4,
 "nbformat_minor": 5
}
